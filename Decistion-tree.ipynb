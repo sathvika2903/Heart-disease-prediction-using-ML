{
 "cells": [
  {
   "cell_type": "markdown",
   "metadata": {},
   "source": [
    "\n",
    "\n",
    "\n",
    "\n",
    "\n",
    "\n",
    "\n",
    "\n",
    "\n",
    "\n",
    "\n",
    "\n",
    "\n",
    "\n",
    "\n",
    "\n",
    "\n",
    "\n",
    "\n",
    "\n",
    "\n",
    "\n",
    "\n",
    "\n",
    "\n",
    "\n",
    "\n",
    "\n",
    "\n",
    "\n",
    "\n",
    "\n",
    "\n",
    "\n",
    "\n",
    "\n",
    "\n",
    "\n",
    "\n",
    "\n",
    "\n",
    "\n",
    "\n",
    "\n",
    "\n",
    "\n",
    "\n",
    "\n",
    "\n",
    "\n",
    "\n",
    "\n",
    "\n",
    "\n",
    "\n",
    "\n",
    "\n",
    "\n",
    "\n",
    "\n",
    "\n",
    "\n",
    "\n",
    "\n",
    "\n",
    "\n",
    "\n",
    "\n",
    "\n",
    "\n",
    "\n",
    "\n",
    "\n",
    "\n",
    "\n",
    "\n",
    "\n",
    "\n",
    "\n",
    "\n",
    "\n",
    "\n",
    "\n",
    "\n",
    "\n",
    "\n",
    "\n",
    "\n",
    "\n",
    "\n",
    "\n",
    "\n",
    "\n",
    "\n",
    "\n",
    "\n",
    "\n",
    "\n",
    "\n",
    "\n",
    "\n",
    "\n",
    "\n",
    "\n",
    "\n",
    "\n",
    "\n",
    "\n",
    "\n",
    "\n",
    "\n",
    "\n",
    "\n",
    "\n",
    "\n",
    "\n",
    "\n",
    "\n",
    "\n",
    "\n",
    "\n",
    "\n",
    "\n",
    "\n",
    "\n",
    "\n",
    "\n",
    "# Importing packages "
   ]
  },
  {
   "cell_type": "code",
   "execution_count": 58,
   "metadata": {},
   "outputs": [],
   "source": [
    "# Data wrangling \n",
    "import pandas as pd \n",
    "\n",
    "# Array math\n",
    "import numpy as np \n",
    "\n",
    "# Ploting \n",
    "import seaborn as sns\n",
    "import matplotlib.pyplot as plt\n",
    "\n",
    "# List iteration tracking\n",
    "from tqdm import tqdm\n",
    "\n",
    "# Importing the custom written class \n",
    "from DecisionTree import Node \n",
    "\n",
    "# Importing the custom regression tree \n",
    "from RegressionDecisionTree import NodeRegression\n",
    "\n",
    "# Importing the scikit-learn tree implementation\n",
    "from sklearn.tree import DecisionTreeClassifier, export_text , DecisionTreeRegressor\n",
    "from sklearn.metrics import accuracy_score\n",
    "from sklearn.preprocessing import LabelEncoder\n",
    "from sklearn.model_selection import train_test_split\n",
    "from sklearn.feature_selection import mutual_info_classif\n",
    "from sklearn.metrics import classification_report, confusion_matrix\n",
    "\n",
    "# Inspecting functions\n",
    "import inspect\n",
    "\n",
    "# Time tracking\n",
    "import time"
   ]
  },
  {
   "cell_type": "markdown",
   "metadata": {},
   "source": [
    "# Motivating example"
   ]
  },
  {
   "cell_type": "markdown",
   "metadata": {},
   "source": [
    "Lets load some data from the famous titanic dataset."
   ]
  },
  {
   "cell_type": "code",
   "execution_count": 59,
   "metadata": {},
   "outputs": [],
   "source": [
    "# Loading data\n",
    "d = pd.read_csv('heart.csv')"
   ]
  },
  {
   "cell_type": "code",
   "execution_count": 60,
   "metadata": {},
   "outputs": [
    {
     "data": {
      "text/html": [
       "<div>\n",
       "<style scoped>\n",
       "    .dataframe tbody tr th:only-of-type {\n",
       "        vertical-align: middle;\n",
       "    }\n",
       "\n",
       "    .dataframe tbody tr th {\n",
       "        vertical-align: top;\n",
       "    }\n",
       "\n",
       "    .dataframe thead th {\n",
       "        text-align: right;\n",
       "    }\n",
       "</style>\n",
       "<table border=\"1\" class=\"dataframe\">\n",
       "  <thead>\n",
       "    <tr style=\"text-align: right;\">\n",
       "      <th></th>\n",
       "      <th>age</th>\n",
       "      <th>sex</th>\n",
       "      <th>cp</th>\n",
       "      <th>trestbps</th>\n",
       "      <th>chol</th>\n",
       "      <th>fbs</th>\n",
       "      <th>restecg</th>\n",
       "      <th>thalach</th>\n",
       "      <th>exang</th>\n",
       "      <th>oldpeak</th>\n",
       "      <th>slope</th>\n",
       "      <th>ca</th>\n",
       "      <th>thal</th>\n",
       "      <th>target</th>\n",
       "    </tr>\n",
       "  </thead>\n",
       "  <tbody>\n",
       "    <tr>\n",
       "      <th>0</th>\n",
       "      <td>63</td>\n",
       "      <td>1</td>\n",
       "      <td>3</td>\n",
       "      <td>145</td>\n",
       "      <td>233</td>\n",
       "      <td>1</td>\n",
       "      <td>0</td>\n",
       "      <td>150</td>\n",
       "      <td>0</td>\n",
       "      <td>2.3</td>\n",
       "      <td>0</td>\n",
       "      <td>0</td>\n",
       "      <td>1</td>\n",
       "      <td>1</td>\n",
       "    </tr>\n",
       "    <tr>\n",
       "      <th>1</th>\n",
       "      <td>37</td>\n",
       "      <td>1</td>\n",
       "      <td>2</td>\n",
       "      <td>130</td>\n",
       "      <td>250</td>\n",
       "      <td>0</td>\n",
       "      <td>1</td>\n",
       "      <td>187</td>\n",
       "      <td>0</td>\n",
       "      <td>3.5</td>\n",
       "      <td>0</td>\n",
       "      <td>0</td>\n",
       "      <td>2</td>\n",
       "      <td>1</td>\n",
       "    </tr>\n",
       "    <tr>\n",
       "      <th>2</th>\n",
       "      <td>41</td>\n",
       "      <td>0</td>\n",
       "      <td>1</td>\n",
       "      <td>130</td>\n",
       "      <td>204</td>\n",
       "      <td>0</td>\n",
       "      <td>0</td>\n",
       "      <td>172</td>\n",
       "      <td>0</td>\n",
       "      <td>1.4</td>\n",
       "      <td>2</td>\n",
       "      <td>0</td>\n",
       "      <td>2</td>\n",
       "      <td>1</td>\n",
       "    </tr>\n",
       "    <tr>\n",
       "      <th>3</th>\n",
       "      <td>56</td>\n",
       "      <td>1</td>\n",
       "      <td>1</td>\n",
       "      <td>120</td>\n",
       "      <td>236</td>\n",
       "      <td>0</td>\n",
       "      <td>1</td>\n",
       "      <td>178</td>\n",
       "      <td>0</td>\n",
       "      <td>0.8</td>\n",
       "      <td>2</td>\n",
       "      <td>0</td>\n",
       "      <td>2</td>\n",
       "      <td>1</td>\n",
       "    </tr>\n",
       "    <tr>\n",
       "      <th>4</th>\n",
       "      <td>57</td>\n",
       "      <td>0</td>\n",
       "      <td>0</td>\n",
       "      <td>120</td>\n",
       "      <td>354</td>\n",
       "      <td>0</td>\n",
       "      <td>1</td>\n",
       "      <td>163</td>\n",
       "      <td>1</td>\n",
       "      <td>0.6</td>\n",
       "      <td>2</td>\n",
       "      <td>0</td>\n",
       "      <td>2</td>\n",
       "      <td>1</td>\n",
       "    </tr>\n",
       "    <tr>\n",
       "      <th>...</th>\n",
       "      <td>...</td>\n",
       "      <td>...</td>\n",
       "      <td>...</td>\n",
       "      <td>...</td>\n",
       "      <td>...</td>\n",
       "      <td>...</td>\n",
       "      <td>...</td>\n",
       "      <td>...</td>\n",
       "      <td>...</td>\n",
       "      <td>...</td>\n",
       "      <td>...</td>\n",
       "      <td>...</td>\n",
       "      <td>...</td>\n",
       "      <td>...</td>\n",
       "    </tr>\n",
       "    <tr>\n",
       "      <th>288</th>\n",
       "      <td>57</td>\n",
       "      <td>1</td>\n",
       "      <td>0</td>\n",
       "      <td>110</td>\n",
       "      <td>335</td>\n",
       "      <td>0</td>\n",
       "      <td>1</td>\n",
       "      <td>143</td>\n",
       "      <td>1</td>\n",
       "      <td>3.0</td>\n",
       "      <td>1</td>\n",
       "      <td>1</td>\n",
       "      <td>3</td>\n",
       "      <td>0</td>\n",
       "    </tr>\n",
       "    <tr>\n",
       "      <th>289</th>\n",
       "      <td>55</td>\n",
       "      <td>0</td>\n",
       "      <td>0</td>\n",
       "      <td>128</td>\n",
       "      <td>205</td>\n",
       "      <td>0</td>\n",
       "      <td>2</td>\n",
       "      <td>130</td>\n",
       "      <td>1</td>\n",
       "      <td>2.0</td>\n",
       "      <td>1</td>\n",
       "      <td>1</td>\n",
       "      <td>3</td>\n",
       "      <td>0</td>\n",
       "    </tr>\n",
       "    <tr>\n",
       "      <th>290</th>\n",
       "      <td>61</td>\n",
       "      <td>1</td>\n",
       "      <td>0</td>\n",
       "      <td>148</td>\n",
       "      <td>203</td>\n",
       "      <td>0</td>\n",
       "      <td>1</td>\n",
       "      <td>161</td>\n",
       "      <td>0</td>\n",
       "      <td>0.0</td>\n",
       "      <td>2</td>\n",
       "      <td>1</td>\n",
       "      <td>3</td>\n",
       "      <td>0</td>\n",
       "    </tr>\n",
       "    <tr>\n",
       "      <th>291</th>\n",
       "      <td>58</td>\n",
       "      <td>1</td>\n",
       "      <td>0</td>\n",
       "      <td>114</td>\n",
       "      <td>318</td>\n",
       "      <td>0</td>\n",
       "      <td>2</td>\n",
       "      <td>140</td>\n",
       "      <td>0</td>\n",
       "      <td>4.4</td>\n",
       "      <td>0</td>\n",
       "      <td>3</td>\n",
       "      <td>1</td>\n",
       "      <td>0</td>\n",
       "    </tr>\n",
       "    <tr>\n",
       "      <th>292</th>\n",
       "      <td>58</td>\n",
       "      <td>0</td>\n",
       "      <td>0</td>\n",
       "      <td>170</td>\n",
       "      <td>225</td>\n",
       "      <td>1</td>\n",
       "      <td>0</td>\n",
       "      <td>146</td>\n",
       "      <td>1</td>\n",
       "      <td>2.8</td>\n",
       "      <td>1</td>\n",
       "      <td>2</td>\n",
       "      <td>1</td>\n",
       "      <td>0</td>\n",
       "    </tr>\n",
       "  </tbody>\n",
       "</table>\n",
       "<p>293 rows × 14 columns</p>\n",
       "</div>"
      ],
      "text/plain": [
       "     age  sex  cp  trestbps  chol  fbs  restecg  thalach  exang  oldpeak  \\\n",
       "0     63    1   3       145   233    1        0      150      0      2.3   \n",
       "1     37    1   2       130   250    0        1      187      0      3.5   \n",
       "2     41    0   1       130   204    0        0      172      0      1.4   \n",
       "3     56    1   1       120   236    0        1      178      0      0.8   \n",
       "4     57    0   0       120   354    0        1      163      1      0.6   \n",
       "..   ...  ...  ..       ...   ...  ...      ...      ...    ...      ...   \n",
       "288   57    1   0       110   335    0        1      143      1      3.0   \n",
       "289   55    0   0       128   205    0        2      130      1      2.0   \n",
       "290   61    1   0       148   203    0        1      161      0      0.0   \n",
       "291   58    1   0       114   318    0        2      140      0      4.4   \n",
       "292   58    0   0       170   225    1        0      146      1      2.8   \n",
       "\n",
       "     slope  ca  thal  target  \n",
       "0        0   0     1       1  \n",
       "1        0   0     2       1  \n",
       "2        2   0     2       1  \n",
       "3        2   0     2       1  \n",
       "4        2   0     2       1  \n",
       "..     ...  ..   ...     ...  \n",
       "288      1   1     3       0  \n",
       "289      1   1     3       0  \n",
       "290      2   1     3       0  \n",
       "291      0   3     1       0  \n",
       "292      1   2     1       0  \n",
       "\n",
       "[293 rows x 14 columns]"
      ]
     },
     "execution_count": 60,
     "metadata": {},
     "output_type": "execute_result"
    }
   ],
   "source": [
    "d.head(-10)"
   ]
  },
  {
   "cell_type": "code",
   "execution_count": 61,
   "metadata": {},
   "outputs": [
    {
     "name": "stdout",
     "output_type": "stream",
     "text": [
      "<class 'pandas.core.frame.DataFrame'>\n",
      "RangeIndex: 303 entries, 0 to 302\n",
      "Data columns (total 14 columns):\n",
      " #   Column    Non-Null Count  Dtype  \n",
      "---  ------    --------------  -----  \n",
      " 0   age       303 non-null    int64  \n",
      " 1   sex       303 non-null    int64  \n",
      " 2   cp        303 non-null    int64  \n",
      " 3   trestbps  303 non-null    int64  \n",
      " 4   chol      303 non-null    int64  \n",
      " 5   fbs       303 non-null    int64  \n",
      " 6   restecg   303 non-null    int64  \n",
      " 7   thalach   303 non-null    int64  \n",
      " 8   exang     303 non-null    int64  \n",
      " 9   oldpeak   303 non-null    float64\n",
      " 10  slope     303 non-null    int64  \n",
      " 11  ca        303 non-null    int64  \n",
      " 12  thal      303 non-null    int64  \n",
      " 13  target    303 non-null    int64  \n",
      "dtypes: float64(1), int64(13)\n",
      "memory usage: 33.3 KB\n"
     ]
    }
   ],
   "source": [
    "d.info()"
   ]
  },
  {
   "cell_type": "code",
   "execution_count": 62,
   "metadata": {},
   "outputs": [
    {
     "data": {
      "text/plain": [
       "(303, 14)"
      ]
     },
     "execution_count": 62,
     "metadata": {},
     "output_type": "execute_result"
    }
   ],
   "source": [
    "d.shape"
   ]
  },
  {
   "cell_type": "code",
   "execution_count": 63,
   "metadata": {},
   "outputs": [
    {
     "data": {
      "text/html": [
       "<div>\n",
       "<style scoped>\n",
       "    .dataframe tbody tr th:only-of-type {\n",
       "        vertical-align: middle;\n",
       "    }\n",
       "\n",
       "    .dataframe tbody tr th {\n",
       "        vertical-align: top;\n",
       "    }\n",
       "\n",
       "    .dataframe thead th {\n",
       "        text-align: right;\n",
       "    }\n",
       "</style>\n",
       "<table border=\"1\" class=\"dataframe\">\n",
       "  <thead>\n",
       "    <tr style=\"text-align: right;\">\n",
       "      <th></th>\n",
       "      <th>age</th>\n",
       "      <th>sex</th>\n",
       "      <th>cp</th>\n",
       "      <th>trestbps</th>\n",
       "      <th>chol</th>\n",
       "      <th>fbs</th>\n",
       "      <th>restecg</th>\n",
       "      <th>thalach</th>\n",
       "      <th>exang</th>\n",
       "      <th>oldpeak</th>\n",
       "      <th>slope</th>\n",
       "      <th>ca</th>\n",
       "      <th>thal</th>\n",
       "      <th>target</th>\n",
       "    </tr>\n",
       "  </thead>\n",
       "  <tbody>\n",
       "    <tr>\n",
       "      <th>count</th>\n",
       "      <td>303.000000</td>\n",
       "      <td>303.000000</td>\n",
       "      <td>303.000000</td>\n",
       "      <td>303.000000</td>\n",
       "      <td>303.000000</td>\n",
       "      <td>303.000000</td>\n",
       "      <td>303.000000</td>\n",
       "      <td>303.000000</td>\n",
       "      <td>303.000000</td>\n",
       "      <td>303.000000</td>\n",
       "      <td>303.000000</td>\n",
       "      <td>303.000000</td>\n",
       "      <td>303.000000</td>\n",
       "      <td>303.000000</td>\n",
       "    </tr>\n",
       "    <tr>\n",
       "      <th>mean</th>\n",
       "      <td>54.366337</td>\n",
       "      <td>0.683168</td>\n",
       "      <td>0.966997</td>\n",
       "      <td>131.623762</td>\n",
       "      <td>246.264026</td>\n",
       "      <td>0.148515</td>\n",
       "      <td>0.528053</td>\n",
       "      <td>149.646865</td>\n",
       "      <td>0.326733</td>\n",
       "      <td>1.039604</td>\n",
       "      <td>1.399340</td>\n",
       "      <td>0.729373</td>\n",
       "      <td>2.313531</td>\n",
       "      <td>0.544554</td>\n",
       "    </tr>\n",
       "    <tr>\n",
       "      <th>std</th>\n",
       "      <td>9.082101</td>\n",
       "      <td>0.466011</td>\n",
       "      <td>1.032052</td>\n",
       "      <td>17.538143</td>\n",
       "      <td>51.830751</td>\n",
       "      <td>0.356198</td>\n",
       "      <td>0.525860</td>\n",
       "      <td>22.905161</td>\n",
       "      <td>0.469794</td>\n",
       "      <td>1.161075</td>\n",
       "      <td>0.616226</td>\n",
       "      <td>1.022606</td>\n",
       "      <td>0.612277</td>\n",
       "      <td>0.498835</td>\n",
       "    </tr>\n",
       "    <tr>\n",
       "      <th>min</th>\n",
       "      <td>29.000000</td>\n",
       "      <td>0.000000</td>\n",
       "      <td>0.000000</td>\n",
       "      <td>94.000000</td>\n",
       "      <td>126.000000</td>\n",
       "      <td>0.000000</td>\n",
       "      <td>0.000000</td>\n",
       "      <td>71.000000</td>\n",
       "      <td>0.000000</td>\n",
       "      <td>0.000000</td>\n",
       "      <td>0.000000</td>\n",
       "      <td>0.000000</td>\n",
       "      <td>0.000000</td>\n",
       "      <td>0.000000</td>\n",
       "    </tr>\n",
       "    <tr>\n",
       "      <th>25%</th>\n",
       "      <td>47.500000</td>\n",
       "      <td>0.000000</td>\n",
       "      <td>0.000000</td>\n",
       "      <td>120.000000</td>\n",
       "      <td>211.000000</td>\n",
       "      <td>0.000000</td>\n",
       "      <td>0.000000</td>\n",
       "      <td>133.500000</td>\n",
       "      <td>0.000000</td>\n",
       "      <td>0.000000</td>\n",
       "      <td>1.000000</td>\n",
       "      <td>0.000000</td>\n",
       "      <td>2.000000</td>\n",
       "      <td>0.000000</td>\n",
       "    </tr>\n",
       "    <tr>\n",
       "      <th>50%</th>\n",
       "      <td>55.000000</td>\n",
       "      <td>1.000000</td>\n",
       "      <td>1.000000</td>\n",
       "      <td>130.000000</td>\n",
       "      <td>240.000000</td>\n",
       "      <td>0.000000</td>\n",
       "      <td>1.000000</td>\n",
       "      <td>153.000000</td>\n",
       "      <td>0.000000</td>\n",
       "      <td>0.800000</td>\n",
       "      <td>1.000000</td>\n",
       "      <td>0.000000</td>\n",
       "      <td>2.000000</td>\n",
       "      <td>1.000000</td>\n",
       "    </tr>\n",
       "    <tr>\n",
       "      <th>75%</th>\n",
       "      <td>61.000000</td>\n",
       "      <td>1.000000</td>\n",
       "      <td>2.000000</td>\n",
       "      <td>140.000000</td>\n",
       "      <td>274.500000</td>\n",
       "      <td>0.000000</td>\n",
       "      <td>1.000000</td>\n",
       "      <td>166.000000</td>\n",
       "      <td>1.000000</td>\n",
       "      <td>1.600000</td>\n",
       "      <td>2.000000</td>\n",
       "      <td>1.000000</td>\n",
       "      <td>3.000000</td>\n",
       "      <td>1.000000</td>\n",
       "    </tr>\n",
       "    <tr>\n",
       "      <th>max</th>\n",
       "      <td>77.000000</td>\n",
       "      <td>1.000000</td>\n",
       "      <td>3.000000</td>\n",
       "      <td>200.000000</td>\n",
       "      <td>564.000000</td>\n",
       "      <td>1.000000</td>\n",
       "      <td>2.000000</td>\n",
       "      <td>202.000000</td>\n",
       "      <td>1.000000</td>\n",
       "      <td>6.200000</td>\n",
       "      <td>2.000000</td>\n",
       "      <td>4.000000</td>\n",
       "      <td>3.000000</td>\n",
       "      <td>1.000000</td>\n",
       "    </tr>\n",
       "  </tbody>\n",
       "</table>\n",
       "</div>"
      ],
      "text/plain": [
       "              age         sex          cp    trestbps        chol         fbs  \\\n",
       "count  303.000000  303.000000  303.000000  303.000000  303.000000  303.000000   \n",
       "mean    54.366337    0.683168    0.966997  131.623762  246.264026    0.148515   \n",
       "std      9.082101    0.466011    1.032052   17.538143   51.830751    0.356198   \n",
       "min     29.000000    0.000000    0.000000   94.000000  126.000000    0.000000   \n",
       "25%     47.500000    0.000000    0.000000  120.000000  211.000000    0.000000   \n",
       "50%     55.000000    1.000000    1.000000  130.000000  240.000000    0.000000   \n",
       "75%     61.000000    1.000000    2.000000  140.000000  274.500000    0.000000   \n",
       "max     77.000000    1.000000    3.000000  200.000000  564.000000    1.000000   \n",
       "\n",
       "          restecg     thalach       exang     oldpeak       slope          ca  \\\n",
       "count  303.000000  303.000000  303.000000  303.000000  303.000000  303.000000   \n",
       "mean     0.528053  149.646865    0.326733    1.039604    1.399340    0.729373   \n",
       "std      0.525860   22.905161    0.469794    1.161075    0.616226    1.022606   \n",
       "min      0.000000   71.000000    0.000000    0.000000    0.000000    0.000000   \n",
       "25%      0.000000  133.500000    0.000000    0.000000    1.000000    0.000000   \n",
       "50%      1.000000  153.000000    0.000000    0.800000    1.000000    0.000000   \n",
       "75%      1.000000  166.000000    1.000000    1.600000    2.000000    1.000000   \n",
       "max      2.000000  202.000000    1.000000    6.200000    2.000000    4.000000   \n",
       "\n",
       "             thal      target  \n",
       "count  303.000000  303.000000  \n",
       "mean     2.313531    0.544554  \n",
       "std      0.612277    0.498835  \n",
       "min      0.000000    0.000000  \n",
       "25%      2.000000    0.000000  \n",
       "50%      2.000000    1.000000  \n",
       "75%      3.000000    1.000000  \n",
       "max      3.000000    1.000000  "
      ]
     },
     "execution_count": 63,
     "metadata": {},
     "output_type": "execute_result"
    }
   ],
   "source": [
    "d.describe()"
   ]
  },
  {
   "cell_type": "code",
   "execution_count": 64,
   "metadata": {},
   "outputs": [
    {
     "data": {
      "text/plain": [
       "age         False\n",
       "sex         False\n",
       "cp          False\n",
       "trestbps    False\n",
       "chol        False\n",
       "fbs         False\n",
       "restecg     False\n",
       "thalach     False\n",
       "exang       False\n",
       "oldpeak     False\n",
       "slope       False\n",
       "ca          False\n",
       "thal        False\n",
       "target      False\n",
       "dtype: bool"
      ]
     },
     "execution_count": 64,
     "metadata": {},
     "output_type": "execute_result"
    }
   ],
   "source": [
    "d.isnull().any()"
   ]
  },
  {
   "cell_type": "code",
   "execution_count": 65,
   "metadata": {},
   "outputs": [
    {
     "name": "stdout",
     "output_type": "stream",
     "text": [
      "       Specs       Score\n",
      "7    thalach  188.320472\n",
      "9    oldpeak   72.644253\n",
      "11        ca   66.440765\n",
      "2         cp   62.598098\n",
      "8      exang   38.914377\n",
      "4       chol   23.936394\n",
      "0        age   23.286624\n",
      "3   trestbps   14.823925\n",
      "10     slope    9.804095\n",
      "1        sex    7.576835\n",
      "12      thal    5.791853\n",
      "6    restecg    2.978271\n"
     ]
    }
   ],
   "source": [
    "from sklearn.feature_selection import SelectKBest\n",
    "from sklearn.feature_selection import chi2\n",
    "\n",
    "data = d.copy()\n",
    "X = data.iloc[:,0:13]  #independent columns\n",
    "y = data.iloc[:,-1]    #target column \n",
    "#apply SelectKBest class to extract top best features\n",
    "\n",
    "bestfeatures = SelectKBest(score_func=chi2, k=10)\n",
    "fit = bestfeatures.fit(X,y)\n",
    "dfscores = pd.DataFrame(fit.scores_)\n",
    "dfcolumns = pd.DataFrame(X.columns)\n",
    "#concat two dataframes for better visualization \n",
    "featureScores = pd.concat([dfcolumns,dfscores],axis=1)\n",
    "featureScores.columns = ['Specs','Score']  #naming the dataframe columns\n",
    "print(featureScores.nlargest(12,'Score'))  #print best features"
   ]
  },
  {
   "cell_type": "markdown",
   "metadata": {},
   "source": [
    "Lets say we want to create a classifier whether a person have heart disease or not using two variables: trestbps and oldpeak. We want to create a simple decision tree to accomplish this task. "
   ]
  },
  {
   "cell_type": "code",
   "execution_count": 66,
   "metadata": {},
   "outputs": [],
   "source": [
    "dd = d[['target', 'oldpeak', 'thalach']].copy()\n",
    "\n",
    "# Droping missing entries\n",
    "dd.dropna(inplace=True)"
   ]
  },
  {
   "cell_type": "code",
   "execution_count": 67,
   "metadata": {},
   "outputs": [
    {
     "name": "stdout",
     "output_type": "stream",
     "text": [
      "Number of observations: 303\n"
     ]
    }
   ],
   "source": [
    "print(f\"Number of observations: {dd.shape[0]}\")"
   ]
  },
  {
   "cell_type": "code",
   "execution_count": 68,
   "metadata": {},
   "outputs": [
    {
     "data": {
      "image/png": "[encoded data removed]",
      "text/plain": [
       "<Figure size 720x720 with 1 Axes>"
      ]
     },
     "metadata": {
      "needs_background": "light"
     },
     "output_type": "display_data"
    }
   ],
   "source": [
    "plt.figure(figsize=(10, 10))\n",
    "sns.scatterplot(y='oldpeak', x='thalach', data=dd, hue='target')\n",
    "plt.grid()\n",
    "plt.show()"
   ]
  },
  {
   "cell_type": "markdown",
   "metadata": {},
   "source": [
    "Every decision tree creation starts with the selection of what variable and what value we should choose to split? "
   ]
  },
  {
   "cell_type": "code",
   "execution_count": 69,
   "metadata": {},
   "outputs": [
    {
     "data": {
      "image/png": "[encoded data removed]",
      "text/plain": [
       "<Figure size 720x720 with 1 Axes>"
      ]
     },
     "metadata": {
      "needs_background": "light"
     },
     "output_type": "display_data"
    }
   ],
   "source": [
    "# Define the split value \n",
    "thalach_split = 120\n",
    "\n",
    "# Ploting the original plot\n",
    "plt.figure(figsize=(10, 10))\n",
    "sns.scatterplot(y='oldpeak', x='thalach', data=dd, hue='target')\n",
    "plt.grid()\n",
    "\n",
    "# Adding the vertical line\n",
    "plt.axvline(thalach_split, label='Spliting criteria', color='red')\n",
    "plt.legend()\n",
    "plt.show()"
   ]
  },
  {
   "cell_type": "code",
   "execution_count": 70,
   "metadata": {},
   "outputs": [],
   "source": [
    "# Getting the left and right datasets\n",
    "left = dd[dd['thalach']<=thalach_split]\n",
    "right = dd[dd['thalach']>thalach_split]"
   ]
  },
  {
   "cell_type": "markdown",
   "metadata": {},
   "source": [
    "We made a decision to split the data into two parts based on the visual ques from the scatterplot. Some statistics:"
   ]
  },
  {
   "cell_type": "code",
   "execution_count": 71,
   "metadata": {},
   "outputs": [
    {
     "name": "stdout",
     "output_type": "stream",
     "text": [
      "Observations to the left of criteria: 37\n",
      "Observations to the right of criteria: 266\n"
     ]
    }
   ],
   "source": [
    "print(f\"Observations to the left of criteria: {left.shape[0]}\")\n",
    "print(f\"Observations to the right of criteria: {right.shape[0]}\")"
   ]
  },
  {
   "cell_type": "code",
   "execution_count": 72,
   "metadata": {},
   "outputs": [
    {
     "data": {
      "text/html": [
       "<div>\n",
       "<style scoped>\n",
       "    .dataframe tbody tr th:only-of-type {\n",
       "        vertical-align: middle;\n",
       "    }\n",
       "\n",
       "    .dataframe tbody tr th {\n",
       "        vertical-align: top;\n",
       "    }\n",
       "\n",
       "    .dataframe thead th {\n",
       "        text-align: right;\n",
       "    }\n",
       "</style>\n",
       "<table border=\"1\" class=\"dataframe\">\n",
       "  <thead>\n",
       "    <tr style=\"text-align: right;\">\n",
       "      <th></th>\n",
       "      <th>target</th>\n",
       "      <th>size</th>\n",
       "    </tr>\n",
       "  </thead>\n",
       "  <tbody>\n",
       "    <tr>\n",
       "      <th>0</th>\n",
       "      <td>0</td>\n",
       "      <td>30</td>\n",
       "    </tr>\n",
       "    <tr>\n",
       "      <th>1</th>\n",
       "      <td>1</td>\n",
       "      <td>7</td>\n",
       "    </tr>\n",
       "  </tbody>\n",
       "</table>\n",
       "</div>"
      ],
      "text/plain": [
       "   target  size\n",
       "0       0    30\n",
       "1       1     7"
      ]
     },
     "execution_count": 72,
     "metadata": {},
     "output_type": "execute_result"
    }
   ],
   "source": [
    "left.groupby('target', as_index=False).size()"
   ]
  },
  {
   "cell_type": "code",
   "execution_count": 73,
   "metadata": {},
   "outputs": [
    {
     "data": {
      "text/html": [
       "<div>\n",
       "<style scoped>\n",
       "    .dataframe tbody tr th:only-of-type {\n",
       "        vertical-align: middle;\n",
       "    }\n",
       "\n",
       "    .dataframe tbody tr th {\n",
       "        vertical-align: top;\n",
       "    }\n",
       "\n",
       "    .dataframe thead th {\n",
       "        text-align: right;\n",
       "    }\n",
       "</style>\n",
       "<table border=\"1\" class=\"dataframe\">\n",
       "  <thead>\n",
       "    <tr style=\"text-align: right;\">\n",
       "      <th></th>\n",
       "      <th>target</th>\n",
       "      <th>size</th>\n",
       "    </tr>\n",
       "  </thead>\n",
       "  <tbody>\n",
       "    <tr>\n",
       "      <th>0</th>\n",
       "      <td>0</td>\n",
       "      <td>108</td>\n",
       "    </tr>\n",
       "    <tr>\n",
       "      <th>1</th>\n",
       "      <td>1</td>\n",
       "      <td>158</td>\n",
       "    </tr>\n",
       "  </tbody>\n",
       "</table>\n",
       "</div>"
      ],
      "text/plain": [
       "   target  size\n",
       "0       0   108\n",
       "1       1   158"
      ]
     },
     "execution_count": 73,
     "metadata": {},
     "output_type": "execute_result"
    }
   ],
   "source": [
    "right.groupby('target', as_index=False).size()"
   ]
  },
  {
   "cell_type": "markdown",
   "metadata": {},
   "source": [
    "There are observations from both of the classes in the nodes. Thus, each of the nodes are are **impure**. But how impure? To measure impurity we use the **GINI** impurity coefficient. "
   ]
  },
  {
   "cell_type": "markdown",
   "metadata": {},
   "source": [
    "# GINI impurity definition "
   ]
  },
  {
   "cell_type": "markdown",
   "metadata": {},
   "source": [
    "The GINI impurity index is the default spliting criteria when building decision trees. "
   ]
  },
  {
   "cell_type": "markdown",
   "metadata": {},
   "source": [
    "The formal definition for GINI impurity is as follows: \n",
    "    \n",
    "*Gini impurity is a measure of how often a randomly chosen element from the set would be incorrectly labeled if it was randomly labeled according to the distribution of labels in the subset.*"
   ]
  },
  {
   "cell_type": "markdown",
   "metadata": {},
   "source": [
    "The definition is not very intuitive so lets bring some clarity. \n",
    "\n",
    "Suppose we have two classes in the dataset:\n",
    "\n",
    "$$k_{1}, k_{2}$$. \n",
    "\n",
    "Each of the classes have $n_{1}$ and $n_{2}$ observations."
   ]
  },
  {
   "cell_type": "markdown",
   "metadata": {},
   "source": [
    "The probability of observing something from one of the $k$ classes is: "
   ]
  },
  {
   "cell_type": "markdown",
   "metadata": {},
   "source": [
    "$$p(i) = P(x_{i} \\in k_{i}) = \\dfrac{n_{i}}{n_{1} + n_{2}},  i \\in \\{1, 2\\}$$"
   ]
  },
  {
   "cell_type": "markdown",
   "metadata": {},
   "source": [
    "The GINI impurity of such a system is calculated with the following formula:\n",
    "    \n",
    "$$G = 1 - \\Sigma_{i=1}^{2}p(i)^{2}$$"
   ]
  },
  {
   "cell_type": "markdown",
   "metadata": {},
   "source": [
    "The function for calculating the impurity is in the **Node** class:"
   ]
  },
  {
   "cell_type": "code",
   "execution_count": 74,
   "metadata": {},
   "outputs": [
    {
     "name": "stdout",
     "output_type": "stream",
     "text": [
      "    @staticmethod\n",
      "    def GINI_impurity(y1_count: int, y2_count: int) -> float:\n",
      "        \"\"\"\n",
      "        Given the observations of a binary class calculate the GINI impurity\n",
      "        \"\"\"\n",
      "        # Ensuring the correct types\n",
      "        if y1_count is None:\n",
      "            y1_count = 0\n",
      "\n",
      "        if y2_count is None:\n",
      "            y2_count = 0\n",
      "\n",
      "        # Getting the total observations\n",
      "        n = y1_count + y2_count\n",
      "        \n",
      "        # If n is 0 then we return the lowest possible gini impurity\n",
      "        if n == 0:\n",
      "            return 0.0\n",
      "\n",
      "        # Getting the probability to see each of the classes\n",
      "        p1 = y1_count / n\n",
      "        p2 = y2_count / n\n",
      "        \n",
      "        # Calculating GINI \n",
      "        gini = 1 - (p1 ** 2 + p2 ** 2)\n",
      "        \n",
      "        # Returning the gini impurity\n",
      "        return gini\n",
      "\n"
     ]
    }
   ],
   "source": [
    "print(inspect.getsource(Node.GINI_impurity))"
   ]
  },
  {
   "cell_type": "code",
   "execution_count": 75,
   "metadata": {},
   "outputs": [],
   "source": [
    "# Simulating some data\n",
    "n = 1000\n",
    "\n",
    "shares_y1 = [\n",
    "    0, \n",
    "    0.1,\n",
    "    0.2,\n",
    "    0.3,\n",
    "    0.4,\n",
    "    0.5, \n",
    "    0.6,\n",
    "    0.7,\n",
    "    0.8,\n",
    "    0.9,\n",
    "    1\n",
    "] \n",
    "\n",
    "y1_counts = [x * n for x in shares_y1]\n",
    "y2_counts = [n - x for x in y1_counts]\n",
    "\n",
    "y = list(zip(y1_counts, y2_counts))"
   ]
  },
  {
   "cell_type": "code",
   "execution_count": 76,
   "metadata": {},
   "outputs": [
    {
     "data": {
      "text/plain": [
       "[(0, 1000),\n",
       " (100.0, 900.0),\n",
       " (200.0, 800.0),\n",
       " (300.0, 700.0),\n",
       " (400.0, 600.0),\n",
       " (500.0, 500.0),\n",
       " (600.0, 400.0),\n",
       " (700.0, 300.0),\n",
       " (800.0, 200.0),\n",
       " (900.0, 100.0),\n",
       " (1000, 0)]"
      ]
     },
     "execution_count": 76,
     "metadata": {},
     "output_type": "execute_result"
    }
   ],
   "source": [
    "y"
   ]
  },
  {
   "cell_type": "code",
   "execution_count": 77,
   "metadata": {},
   "outputs": [],
   "source": [
    "# Getting the GINI impurities for such data\n",
    "ginis = [Node.GINI_impurity(x[0], x[1]) for x in y]"
   ]
  },
  {
   "cell_type": "code",
   "execution_count": 78,
   "metadata": {},
   "outputs": [
    {
     "data": {
      "image/png": "[encoded data removed]",
      "text/plain": [
       "<Figure size 432x288 with 1 Axes>"
      ]
     },
     "metadata": {
      "needs_background": "light"
     },
     "output_type": "display_data"
    }
   ],
   "source": [
    "plt.plot(shares_y1, ginis, '-o')\n",
    "plt.xlabel(\"Share of first class in the whole dataset\")\n",
    "plt.ylabel(\"GINI impurity\")\n",
    "plt.show()"
   ]
  },
  {
   "cell_type": "markdown",
   "metadata": {},
   "source": [
    "The above graph shows a very important relationship. The upper bound of the GINI impurity index is 0.5. It occurs when there is an equal number of observations of each class in the dataset. This is the **worst** case in terms of GINI impurity.\n",
    "\n",
    "At the edges of graph, we get that impurity is 0. This occurs when there is only one class in the data. This is the **best** situation. "
   ]
  },
  {
   "cell_type": "markdown",
   "metadata": {},
   "source": [
    "# GINI impurity of a split "
   ]
  },
  {
   "cell_type": "markdown",
   "metadata": {},
   "source": [
    "Going back to the example with the heart dataset, we have two datasets resulting from the chosen split. Each of the datasets have different GINI impurity indexes. "
   ]
  },
  {
   "cell_type": "code",
   "execution_count": 79,
   "metadata": {},
   "outputs": [],
   "source": [
    "left_counts = left.groupby(\"target\").size().values.tolist()\n",
    "right_counts = right.groupby(\"target\").size().values.tolist()\n",
    "\n",
    "gini_left = Node.GINI_impurity(left_counts[0], left_counts[1])\n",
    "gini_right = Node.GINI_impurity(right_counts[0], right_counts[1])"
   ]
  },
  {
   "cell_type": "code",
   "execution_count": 80,
   "metadata": {},
   "outputs": [
    {
     "name": "stdout",
     "output_type": "stream",
     "text": [
      "Gini impurity of the left node: 0.3067932797662527\n",
      "Gini impurity of the right node: 0.4823336536830799\n"
     ]
    }
   ],
   "source": [
    "print(f\"Gini impurity of the left node: {gini_left}\")\n",
    "print(f\"Gini impurity of the right node: {gini_right}\")"
   ]
  },
  {
   "cell_type": "markdown",
   "metadata": {},
   "source": [
    "The final GINI impurity index is calculated using the weighted average based on the observation sizes in each of the datasets."
   ]
  },
  {
   "cell_type": "code",
   "execution_count": 81,
   "metadata": {},
   "outputs": [],
   "source": [
    "w1 = left.shape[0]/ (left.shape[0] + right.shape[0]) \n",
    "w2 = right.shape[0] / (left.shape[0] + right.shape[0]) "
   ]
  },
  {
   "cell_type": "code",
   "execution_count": 82,
   "metadata": {},
   "outputs": [],
   "source": [
    "gini_final = w1 * gini_left + w2 * gini_right"
   ]
  },
  {
   "cell_type": "code",
   "execution_count": 83,
   "metadata": {},
   "outputs": [
    {
     "name": "stdout",
     "output_type": "stream",
     "text": [
      "Final gini impurity: 0.46089803046551353\n"
     ]
    }
   ],
   "source": [
    "print(f\"Final gini impurity: {gini_final}\")"
   ]
  },
  {
   "cell_type": "markdown",
   "metadata": {},
   "source": [
    "# GINI gain"
   ]
  },
  {
   "cell_type": "markdown",
   "metadata": {},
   "source": [
    "The last metric used in deciding where to split the data is the GINI gain metric. Its calculated by the difference of non splited GINI of the dataset and the GINI of the selected split. "
   ]
  },
  {
   "cell_type": "markdown",
   "metadata": {},
   "source": [
    "$$GINI gain = \\Delta Gini = Gini_{parent} - (Gini_{left} \\dfrac{n_{left}}{n_{right} + n_{left}} + Gini_{right} \\dfrac{n_{right}}{n_{right} + n_{left}} )$$"
   ]
  },
  {
   "cell_type": "code",
   "execution_count": 84,
   "metadata": {},
   "outputs": [],
   "source": [
    "def GINI_impurity_df(df:pd.DataFrame, target):\n",
    "    \"\"\"\n",
    "    Function to calculate the resulting GINI impurity of a split\n",
    "    \"\"\"\n",
    "    # Getting the counts and ginis\n",
    "    counts = df.groupby(target).size().values.tolist()\n",
    "\n",
    "    gini = Node.GINI_impurity(counts[0], counts[1])\n",
    "    \n",
    "    return gini"
   ]
  },
  {
   "cell_type": "code",
   "execution_count": 85,
   "metadata": {},
   "outputs": [],
   "source": [
    "gini_orig = GINI_impurity_df(dd, 'target')"
   ]
  },
  {
   "cell_type": "code",
   "execution_count": 86,
   "metadata": {},
   "outputs": [
    {
     "name": "stdout",
     "output_type": "stream",
     "text": [
      "Gini non-splited: 0.4960298009999019\n",
      "Gini with the proposed split: 0.46089803046551353\n",
      "Gini gain: 0.035131770534388373\n"
     ]
    }
   ],
   "source": [
    "print(f\"Gini non-splited: {gini_orig}\")\n",
    "print(f\"Gini with the proposed split: {gini_final}\")\n",
    "print(f\"Gini gain: {gini_orig - gini_final}\")"
   ]
  },
  {
   "cell_type": "markdown",
   "metadata": {},
   "source": [
    "At each split decision, we chose that split that has the highest GINI gain. If the GINI gain is non positive, we do not perform the split."
   ]
  },
  {
   "cell_type": "markdown",
   "metadata": {},
   "source": [
    "# Spliting on numeric variables \n"
   ]
  },
  {
   "cell_type": "markdown",
   "metadata": {},
   "source": [
    "When deciding where to split a numeric feature, we first sort all the values, get the means between neighbouring values and calculate the GINI gains with each of the means.\n",
    "\n",
    "The full code to get the best split:"
   ]
  },
  {
   "cell_type": "code",
   "execution_count": 87,
   "metadata": {},
   "outputs": [
    {
     "name": "stdout",
     "output_type": "stream",
     "text": [
      "    @staticmethod\n",
      "    def ma(x: np.array, window: int) -> np.array:\n",
      "        \"\"\"\n",
      "        Calculates the moving average of the given list. \n",
      "        \"\"\"\n",
      "        return np.convolve(x, np.ones(window), 'valid') / window\n",
      "\n"
     ]
    }
   ],
   "source": [
    "print(inspect.getsource(Node.ma))"
   ]
  },
  {
   "cell_type": "code",
   "execution_count": 88,
   "metadata": {},
   "outputs": [
    {
     "name": "stdout",
     "output_type": "stream",
     "text": [
      "    def best_split(self) -> tuple:\n",
      "        \"\"\"\n",
      "        Given the X features and Y targets calculates the best split \n",
      "        for a decision tree\n",
      "        \"\"\"\n",
      "        # Creating a dataset for spliting\n",
      "        df = self.X.copy()\n",
      "        df['Y'] = self.Y\n",
      "\n",
      "        # Getting the GINI impurity for the base input \n",
      "        GINI_base = self.get_GINI()\n",
      "\n",
      "        # Finding which split yields the best GINI gain \n",
      "        max_gain = 0\n",
      "\n",
      "        # Default best feature and split\n",
      "        best_feature = None\n",
      "        best_value = None\n",
      "\n",
      "        for feature in self.features:\n",
      "            # Droping missing values\n",
      "            Xdf = df.dropna().sort_values(feature)\n",
      "\n",
      "            # Sorting the values and getting the rolling average\n",
      "            xmeans = self.ma(Xdf[feature].unique(), 2)\n",
      "\n",
      "            for value in xmeans:\n",
      "                # Spliting the dataset \n",
      "                left_counts = Counter(Xdf[Xdf[feature]<value]['Y'])\n",
      "                right_counts = Counter(Xdf[Xdf[feature]>=value]['Y'])\n",
      "\n",
      "                # Getting the Y distribution from the dicts\n",
      "                y0_left, y1_left, y0_right, y1_right = left_counts.get(0, 0), left_counts.get(1, 0), right_counts.get(0, 0), right_counts.get(1, 0)\n",
      "\n",
      "                # Getting the left and right gini impurities\n",
      "                gini_left = self.GINI_impurity(y0_left, y1_left)\n",
      "                gini_right = self.GINI_impurity(y0_right, y1_right)\n",
      "\n",
      "                # Getting the obs count from the left and the right data splits\n",
      "                n_left = y0_left + y1_left\n",
      "                n_right = y0_right + y1_right\n",
      "\n",
      "                # Calculating the weights for each of the nodes\n",
      "                w_left = n_left / (n_left + n_right)\n",
      "                w_right = n_right / (n_left + n_right)\n",
      "\n",
      "                # Calculating the weighted GINI impurity\n",
      "                wGINI = w_left * gini_left + w_right * gini_right\n",
      "\n",
      "                # Calculating the GINI gain \n",
      "                GINIgain = GINI_base - wGINI\n",
      "\n",
      "                # Checking if this is the best split so far \n",
      "                if GINIgain > max_gain:\n",
      "                    best_feature = feature\n",
      "                    best_value = value \n",
      "\n",
      "                    # Setting the best gain to the current one \n",
      "                    max_gain = GINIgain\n",
      "\n",
      "        return (best_feature, best_value)\n",
      "\n"
     ]
    }
   ],
   "source": [
    "print(inspect.getsource(Node.best_split))"
   ]
  },
  {
   "cell_type": "markdown",
   "metadata": {},
   "source": [
    "# Growing the full tree"
   ]
  },
  {
   "cell_type": "code",
   "execution_count": 89,
   "metadata": {},
   "outputs": [],
   "source": [
    "# Dropping missing values\n",
    "dtree = d[['target', 'oldpeak', 'thalach']].dropna().copy()\n",
    "\n",
    "# Defining the X and Y matrices\n",
    "Y = dtree['target'].values\n",
    "X = dtree[['oldpeak', 'thalach']]\n",
    "\n",
    "# Saving the feature list \n",
    "features = list(X.columns)"
   ]
  },
  {
   "cell_type": "code",
   "execution_count": 90,
   "metadata": {},
   "outputs": [],
   "source": [
    "# Setting the available hyper parameters of a tree\n",
    "hp = {\n",
    "    'max_depth': 3,\n",
    "    'min_samples_split': 50\n",
    "}"
   ]
  },
  {
   "cell_type": "code",
   "execution_count": 91,
   "metadata": {},
   "outputs": [
    {
     "name": "stdout",
     "output_type": "stream",
     "text": [
      "Root\n",
      "   | GINI impurity of the node: 0.5\n",
      "   | Class distribution in the node: {1: 165, 0: 138}\n",
      "   | Predicted class: 1\n",
      "|-------- Split rule: thalach <= 147.5\n",
      "           | GINI impurity of the node: 0.42\n",
      "           | Class distribution in the node: {1: 38, 0: 89}\n",
      "           | Predicted class: 0\n",
      "|---------------- Split rule: oldpeak <= 0.7\n",
      "                   | GINI impurity of the node: 0.45\n",
      "                   | Class distribution in the node: {1: 23, 0: 12}\n",
      "                   | Predicted class: 1\n",
      "|---------------- Split rule: oldpeak > 0.7\n",
      "                   | GINI impurity of the node: 0.27\n",
      "                   | Class distribution in the node: {1: 15, 0: 77}\n",
      "                   | Predicted class: 0\n",
      "|------------------------ Split rule: oldpeak <= 1.85\n",
      "                           | GINI impurity of the node: 0.38\n",
      "                           | Class distribution in the node: {1: 11, 0: 33}\n",
      "                           | Predicted class: 0\n",
      "|------------------------ Split rule: oldpeak > 1.85\n",
      "                           | GINI impurity of the node: 0.15\n",
      "                           | Class distribution in the node: {1: 4, 0: 44}\n",
      "                           | Predicted class: 0\n",
      "|-------- Split rule: thalach > 147.5\n",
      "           | GINI impurity of the node: 0.4\n",
      "           | Class distribution in the node: {1: 127, 0: 49}\n",
      "           | Predicted class: 1\n",
      "|---------------- Split rule: oldpeak <= 2.45\n",
      "                   | GINI impurity of the node: 0.37\n",
      "                   | Class distribution in the node: {1: 125, 0: 41}\n",
      "                   | Predicted class: 1\n",
      "|------------------------ Split rule: thalach <= 171.5\n",
      "                           | GINI impurity of the node: 0.42\n",
      "                           | Class distribution in the node: {1: 80, 0: 35}\n",
      "                           | Predicted class: 1\n",
      "|------------------------ Split rule: thalach > 171.5\n",
      "                           | GINI impurity of the node: 0.21\n",
      "                           | Class distribution in the node: {1: 45, 0: 6}\n",
      "                           | Predicted class: 1\n",
      "|---------------- Split rule: oldpeak > 2.45\n",
      "                   | GINI impurity of the node: 0.32\n",
      "                   | Class distribution in the node: {1: 2, 0: 8}\n",
      "                   | Predicted class: 0\n"
     ]
    }
   ],
   "source": [
    "# Initiating the Node\n",
    "root = Node(Y, X, **hp)\n",
    "\n",
    "# Getting teh best split\n",
    "root.grow_tree()\n",
    "\n",
    "# Printing the tree information \n",
    "root.print_tree()"
   ]
  },
  {
   "cell_type": "markdown",
   "metadata": {},
   "source": [
    "As it turns out, the best first split is the chol feature at value 300.  "
   ]
  },
  {
   "cell_type": "code",
   "execution_count": 92,
   "metadata": {},
   "outputs": [
    {
     "data": {
      "image/png": "[encoded data removed]",
      "text/plain": [
       "<Figure size 720x720 with 1 Axes>"
      ]
     },
     "metadata": {
      "needs_background": "light"
     },
     "output_type": "display_data"
    }
   ],
   "source": [
    "# Define the split value \n",
    "thalach_split = 0.1\n",
    "\n",
    "# Ploting the original plot\n",
    "plt.figure(figsize=(10, 10))\n",
    "sns.scatterplot(y='oldpeak', x='thalach', data=dd, hue='target')\n",
    "plt.grid()\n",
    "\n",
    "# Adding the split line\n",
    "plt.axhline(0.11, label='Best thalach split', color='green')\n",
    "plt.legend()\n",
    "plt.show()"
   ]
  },
  {
   "cell_type": "markdown",
   "metadata": {},
   "source": [
    "# Scikit-learn comparison "
   ]
  },
  {
   "cell_type": "markdown",
   "metadata": {},
   "source": [
    "Lets see how it compares to the custom tree creation that I have written."
   ]
  },
  {
   "cell_type": "code",
   "execution_count": 93,
   "metadata": {},
   "outputs": [],
   "source": [
    "custom_tree_start = time.time()\n",
    "\n",
    "# Initiating the Node\n",
    "root = Node(Y, X, **hp)\n",
    "\n",
    "# Getting teh best split\n",
    "root.grow_tree()\n",
    "\n",
    "custom_tree_time = time.time() - custom_tree_start"
   ]
  },
  {
   "cell_type": "code",
   "execution_count": 94,
   "metadata": {},
   "outputs": [],
   "source": [
    "scikit_tree_start = time.time()\n",
    "\n",
    "# Using the ML package \n",
    "clf = DecisionTreeClassifier(**hp)\n",
    "clf.fit(X, Y)\n",
    "\n",
    "scikit_tree_time = time.time() - scikit_tree_start"
   ]
  },
  {
   "cell_type": "code",
   "execution_count": 95,
   "metadata": {},
   "outputs": [
    {
     "name": "stdout",
     "output_type": "stream",
     "text": [
      "Custom tree growing time: 0.4280529022216797s\n",
      "Scikit tree growing time: 0.0041310787200927734s\n"
     ]
    }
   ],
   "source": [
    "print(f\"Custom tree growing time: {custom_tree_time}s\")\n",
    "print(f\"Scikit tree growing time: {scikit_tree_time}s\")"
   ]
  },
  {
   "cell_type": "markdown",
   "metadata": {},
   "source": [
    "As can be expected, the highly optimized scikit-learn solution works faster."
   ]
  },
  {
   "cell_type": "markdown",
   "metadata": {},
   "source": [
    "Both methods have a visualization: "
   ]
  },
  {
   "cell_type": "code",
   "execution_count": 96,
   "metadata": {
    "scrolled": false
   },
   "outputs": [
    {
     "name": "stdout",
     "output_type": "stream",
     "text": [
      "Root\n",
      "   | GINI impurity of the node: 0.5\n",
      "   | Class distribution in the node: {1: 165, 0: 138}\n",
      "   | Predicted class: 1\n",
      "|-------- Split rule: thalach <= 147.5\n",
      "           | GINI impurity of the node: 0.42\n",
      "           | Class distribution in the node: {1: 38, 0: 89}\n",
      "           | Predicted class: 0\n",
      "|---------------- Split rule: oldpeak <= 0.7\n",
      "                   | GINI impurity of the node: 0.45\n",
      "                   | Class distribution in the node: {1: 23, 0: 12}\n",
      "                   | Predicted class: 1\n",
      "|---------------- Split rule: oldpeak > 0.7\n",
      "                   | GINI impurity of the node: 0.27\n",
      "                   | Class distribution in the node: {1: 15, 0: 77}\n",
      "                   | Predicted class: 0\n",
      "|------------------------ Split rule: oldpeak <= 1.85\n",
      "                           | GINI impurity of the node: 0.38\n",
      "                           | Class distribution in the node: {1: 11, 0: 33}\n",
      "                           | Predicted class: 0\n",
      "|------------------------ Split rule: oldpeak > 1.85\n",
      "                           | GINI impurity of the node: 0.15\n",
      "                           | Class distribution in the node: {1: 4, 0: 44}\n",
      "                           | Predicted class: 0\n",
      "|-------- Split rule: thalach > 147.5\n",
      "           | GINI impurity of the node: 0.4\n",
      "           | Class distribution in the node: {1: 127, 0: 49}\n",
      "           | Predicted class: 1\n",
      "|---------------- Split rule: oldpeak <= 2.45\n",
      "                   | GINI impurity of the node: 0.37\n",
      "                   | Class distribution in the node: {1: 125, 0: 41}\n",
      "                   | Predicted class: 1\n",
      "|------------------------ Split rule: thalach <= 171.5\n",
      "                           | GINI impurity of the node: 0.42\n",
      "                           | Class distribution in the node: {1: 80, 0: 35}\n",
      "                           | Predicted class: 1\n",
      "|------------------------ Split rule: thalach > 171.5\n",
      "                           | GINI impurity of the node: 0.21\n",
      "                           | Class distribution in the node: {1: 45, 0: 6}\n",
      "                           | Predicted class: 1\n",
      "|---------------- Split rule: oldpeak > 2.45\n",
      "                   | GINI impurity of the node: 0.32\n",
      "                   | Class distribution in the node: {1: 2, 0: 8}\n",
      "                   | Predicted class: 0\n"
     ]
    }
   ],
   "source": [
    "root.print_tree()"
   ]
  },
  {
   "cell_type": "code",
   "execution_count": 97,
   "metadata": {},
   "outputs": [
    {
     "name": "stdout",
     "output_type": "stream",
     "text": [
      "|--- thalach <= 147.50\n",
      "|   |--- oldpeak <= 0.70\n",
      "|   |   |--- class: 1\n",
      "|   |--- oldpeak >  0.70\n",
      "|   |   |--- oldpeak <= 1.85\n",
      "|   |   |   |--- class: 0\n",
      "|   |   |--- oldpeak >  1.85\n",
      "|   |   |   |--- class: 0\n",
      "|--- thalach >  147.50\n",
      "|   |--- oldpeak <= 2.45\n",
      "|   |   |--- thalach <= 171.50\n",
      "|   |   |   |--- class: 1\n",
      "|   |   |--- thalach >  171.50\n",
      "|   |   |   |--- class: 1\n",
      "|   |--- oldpeak >  2.45\n",
      "|   |   |--- class: 0\n",
      "\n"
     ]
    }
   ],
   "source": [
    "print(export_text(clf, feature_names=['oldpeak', 'thalach']))"
   ]
  },
  {
   "cell_type": "markdown",
   "metadata": {},
   "source": [
    "# Predictions"
   ]
  },
  {
   "cell_type": "code",
   "execution_count": 98,
   "metadata": {},
   "outputs": [
    {
     "data": {
      "text/plain": [
       "True"
      ]
     },
     "execution_count": 98,
     "metadata": {},
     "output_type": "execute_result"
    }
   ],
   "source": [
    "# Result frame\n",
    "results = X.copy()\n",
    "\n",
    "# Predictions\n",
    "results['scikit_learn'] = clf.predict(X[features])\n",
    "results['custom_yhat'] = root.predict(X[features])\n",
    "\n",
    "# Asserting that every prediction is the same \n",
    "np.all(results['scikit_learn'] == results['custom_yhat'])"
   ]
  },
  {
   "cell_type": "code",
   "execution_count": 99,
   "metadata": {},
   "outputs": [
    {
     "data": {
      "text/plain": [
       "1.0"
      ]
     },
     "execution_count": 99,
     "metadata": {},
     "output_type": "execute_result"
    }
   ],
   "source": [
    "accuracy_score(results['custom_yhat'], results['scikit_learn'])"
   ]
  },
  {
   "cell_type": "markdown",
   "metadata": {},
   "source": [
    "All the predictions are the same. "
   ]
  },
  {
   "cell_type": "markdown",
   "metadata": {},
   "source": [
    "# Regression trees "
   ]
  },
  {
   "cell_type": "markdown",
   "metadata": {},
   "source": [
    "If the response variable $Y$ is not binary but continuous, the spliting criteria of Gini impurity looses its sense. We then use what are called regression decision trees. "
   ]
  },
  {
   "cell_type": "markdown",
   "metadata": {},
   "source": [
    "The main difference between the classification decision tree is that each node saves the mean of the $Y$ variable in itself and the spliting logic aims to minimize the sum of squared **residuals** in each node. \n",
    "\n",
    "The residuals are calculated by the formula:\n",
    "\n",
    "$$r_{i} = y_{i} - \\widehat{y}$$ \n",
    "\n",
    "Where $y_{i}$ - is the true i-th observation in the node and $\\widehat{y}$ is the average of the response variables in the node."
   ]
  },
  {
   "cell_type": "markdown",
   "metadata": {},
   "source": [
    "# The data "
   ]
  },
  {
   "cell_type": "markdown",
   "metadata": {},
   "source": [
    "We will try to create a decision tree where the dependent variable $Y$ is the miles per gallon that a car can go and the explanatory variables $X$ are horsepower, accelaration and the weight of the car.  "
   ]
  },
  {
   "cell_type": "markdown",
   "metadata": {},
   "source": [
    "## Reading data "
   ]
  },
  {
   "cell_type": "code",
   "execution_count": 100,
   "metadata": {},
   "outputs": [],
   "source": [
    "d = pd.read_csv(\"heart.csv\")\n",
    "\n",
    "# Subsetting\n",
    "d = d[d['thalach']!='?']\n",
    "\n",
    "# Constructing the X and Y matrices\n",
    "features = ['age', 'sex', 'cp', 'trestbps', 'chol', 'fbs', 'restecg', 'thalach', 'exang', 'oldpeak', 'slope', 'ca', 'thal']\n",
    "\n",
    "for ft in features:\n",
    "    d[ft] = pd.to_numeric(d[ft])\n",
    "\n",
    "X = d[features]\n",
    "Y = d['target'].values.tolist()"
   ]
  },
  {
   "cell_type": "markdown",
   "metadata": {},
   "source": [
    "### Ploting relationships"
   ]
  },
  {
   "cell_type": "code",
   "execution_count": 101,
   "metadata": {},
   "outputs": [
    {
     "data": {
      "image/png": "[encoded data removed]",
      "text/plain": [
       "<Figure size 432x288 with 1 Axes>"
      ]
     },
     "metadata": {
      "needs_background": "light"
     },
     "output_type": "display_data"
    },
    {
     "data": {
      "image/png": "[encoded data removed]",
      "text/plain": [
       "<Figure size 432x288 with 1 Axes>"
      ]
     },
     "metadata": {
      "needs_background": "light"
     },
     "output_type": "display_data"
    },
    {
     "data": {
      "image/png": "[encoded data removed]",
      "text/plain": [
       "<Figure size 432x288 with 1 Axes>"
      ]
     },
     "metadata": {
      "needs_background": "light"
     },
     "output_type": "display_data"
    },
    {
     "data": {
      "image/png": "[encoded data removed]",
      "text/plain": [
       "<Figure size 432x288 with 1 Axes>"
      ]
     },
     "metadata": {
      "needs_background": "light"
     },
     "output_type": "display_data"
    },
    {
     "data": {
      "image/png": "[encoded data removed]",
      "text/plain": [
       "<Figure size 432x288 with 1 Axes>"
      ]
     },
     "metadata": {
      "needs_background": "light"
     },
     "output_type": "display_data"
    },
    {
     "data": {
      "image/png": "[encoded data removed]",
      "text/plain": [
       "<Figure size 432x288 with 1 Axes>"
      ]
     },
     "metadata": {
      "needs_background": "light"
     },
     "output_type": "display_data"
    },
    {
     "data": {
      "image/png": "[encoded data removed]",
      "text/plain": [
       "<Figure size 432x288 with 1 Axes>"
      ]
     },
     "metadata": {
      "needs_background": "light"
     },
     "output_type": "display_data"
    },
    {
     "data": {
      "image/png": "[encoded data removed]",
      "text/plain": [
       "<Figure size 432x288 with 1 Axes>"
      ]
     },
     "metadata": {
      "needs_background": "light"
     },
     "output_type": "display_data"
    },
    {
     "data": {
      "image/png": "[encoded data removed]",
      "text/plain": [
       "<Figure size 432x288 with 1 Axes>"
      ]
     },
     "metadata": {
      "needs_background": "light"
     },
     "output_type": "display_data"
    },
    {
     "data": {
      "image/png": "[encoded data removed]",
      "text/plain": [
       "<Figure size 432x288 with 1 Axes>"
      ]
     },
     "metadata": {
      "needs_background": "light"
     },
     "output_type": "display_data"
    },
    {
     "data": {
      "image/png": "[encoded data removed]",
      "text/plain": [
       "<Figure size 432x288 with 1 Axes>"
      ]
     },
     "metadata": {
      "needs_background": "light"
     },
     "output_type": "display_data"
    },
    {
     "data": {
      "image/png": "[encoded data removed]",
      "text/plain": [
       "<Figure size 432x288 with 1 Axes>"
      ]
     },
     "metadata": {
      "needs_background": "light"
     },
     "output_type": "display_data"
    },
    {
     "data": {
      "image/png": "[encoded data removed]",
      "text/plain": [
       "<Figure size 432x288 with 1 Axes>"
      ]
     },
     "metadata": {
      "needs_background": "light"
     },
     "output_type": "display_data"
    }
   ],
   "source": [
    "for feature in features:\n",
    "    plt.scatter(X[feature], Y)\n",
    "    plt.xlabel(feature)\n",
    "    plt.ylabel('target')\n",
    "    plt.title(f\"{feature} relationship with target\")\n",
    "    plt.grid()\n",
    "    plt.show()"
   ]
  },
  {
   "cell_type": "markdown",
   "metadata": {},
   "source": [
    "## The spliting criterion "
   ]
  },
  {
   "cell_type": "markdown",
   "metadata": {},
   "source": [
    "The main difference between a classification tree and a regression tree is the spliting criterion. Each node has the y mean saved and we can get the residuals by subtracting that mean from all the y values that fall into that node.\n",
    "\n",
    "Then we search for the feature and the feature value which minimizes the **mean squared error (mse)** statistic:\n",
    "\n",
    "$$mse = \\dfrac{1}{n} \\Sigma_{i=1}^{n} \\left( y_{i} - \\overline{y} \\right) ^ {2}$$"
   ]
  },
  {
   "cell_type": "markdown",
   "metadata": {},
   "source": [
    "# Implementation"
   ]
  },
  {
   "cell_type": "code",
   "execution_count": 102,
   "metadata": {},
   "outputs": [
    {
     "name": "stderr",
     "output_type": "stream",
     "text": [
      "/Users/geethika/Desktop/anaconda3/lib/python3.8/site-packages/numpy/core/fromnumeric.py:3419: RuntimeWarning: Mean of empty slice.\n",
      "  return _methods._mean(a, axis=axis, dtype=dtype,\n",
      "/Users/geethika/Desktop/anaconda3/lib/python3.8/site-packages/numpy/core/_methods.py:188: RuntimeWarning: invalid value encountered in double_scalars\n",
      "  ret = ret.dtype.type(ret / rcount)\n",
      "/Users/geethika/Desktop/anaconda3/lib/python3.8/site-packages/numpy/core/fromnumeric.py:3419: RuntimeWarning: Mean of empty slice.\n",
      "  return _methods._mean(a, axis=axis, dtype=dtype,\n",
      "/Users/geethika/Desktop/anaconda3/lib/python3.8/site-packages/numpy/core/_methods.py:188: RuntimeWarning: invalid value encountered in double_scalars\n",
      "  ret = ret.dtype.type(ret / rcount)\n",
      "/Users/geethika/Desktop/anaconda3/lib/python3.8/site-packages/numpy/core/fromnumeric.py:3419: RuntimeWarning: Mean of empty slice.\n",
      "  return _methods._mean(a, axis=axis, dtype=dtype,\n",
      "/Users/geethika/Desktop/anaconda3/lib/python3.8/site-packages/numpy/core/_methods.py:188: RuntimeWarning: invalid value encountered in double_scalars\n",
      "  ret = ret.dtype.type(ret / rcount)\n",
      "/Users/geethika/Desktop/anaconda3/lib/python3.8/site-packages/numpy/core/fromnumeric.py:3419: RuntimeWarning: Mean of empty slice.\n",
      "  return _methods._mean(a, axis=axis, dtype=dtype,\n",
      "/Users/geethika/Desktop/anaconda3/lib/python3.8/site-packages/numpy/core/_methods.py:188: RuntimeWarning: invalid value encountered in double_scalars\n",
      "  ret = ret.dtype.type(ret / rcount)\n",
      "/Users/geethika/Desktop/anaconda3/lib/python3.8/site-packages/numpy/core/fromnumeric.py:3419: RuntimeWarning: Mean of empty slice.\n",
      "  return _methods._mean(a, axis=axis, dtype=dtype,\n",
      "/Users/geethika/Desktop/anaconda3/lib/python3.8/site-packages/numpy/core/_methods.py:188: RuntimeWarning: invalid value encountered in double_scalars\n",
      "  ret = ret.dtype.type(ret / rcount)\n",
      "/Users/geethika/Desktop/anaconda3/lib/python3.8/site-packages/numpy/core/fromnumeric.py:3419: RuntimeWarning: Mean of empty slice.\n",
      "  return _methods._mean(a, axis=axis, dtype=dtype,\n",
      "/Users/geethika/Desktop/anaconda3/lib/python3.8/site-packages/numpy/core/_methods.py:188: RuntimeWarning: invalid value encountered in double_scalars\n",
      "  ret = ret.dtype.type(ret / rcount)\n",
      "/Users/geethika/Desktop/anaconda3/lib/python3.8/site-packages/numpy/core/fromnumeric.py:3419: RuntimeWarning: Mean of empty slice.\n",
      "  return _methods._mean(a, axis=axis, dtype=dtype,\n",
      "/Users/geethika/Desktop/anaconda3/lib/python3.8/site-packages/numpy/core/_methods.py:188: RuntimeWarning: invalid value encountered in double_scalars\n",
      "  ret = ret.dtype.type(ret / rcount)\n",
      "/Users/geethika/Desktop/anaconda3/lib/python3.8/site-packages/numpy/core/fromnumeric.py:3419: RuntimeWarning: Mean of empty slice.\n",
      "  return _methods._mean(a, axis=axis, dtype=dtype,\n",
      "/Users/geethika/Desktop/anaconda3/lib/python3.8/site-packages/numpy/core/_methods.py:188: RuntimeWarning: invalid value encountered in double_scalars\n",
      "  ret = ret.dtype.type(ret / rcount)\n"
     ]
    }
   ],
   "source": [
    "custom_tree_start = time.time()\n",
    "\n",
    "# Initiating the Node\n",
    "root = NodeRegression(Y, X, **hp)\n",
    "\n",
    "# Getting teh best split\n",
    "root.grow_tree()\n",
    "\n",
    "custom_tree_time = time.time() - custom_tree_start"
   ]
  },
  {
   "cell_type": "code",
   "execution_count": 103,
   "metadata": {},
   "outputs": [],
   "source": [
    "scikit_tree_start = time.time()\n",
    "\n",
    "# Using the ML package \n",
    "clf = DecisionTreeRegressor(**hp)\n",
    "clf.fit(X, Y)\n",
    "\n",
    "scikit_tree_time = time.time() - scikit_tree_start"
   ]
  },
  {
   "cell_type": "code",
   "execution_count": 104,
   "metadata": {},
   "outputs": [
    {
     "name": "stdout",
     "output_type": "stream",
     "text": [
      "Custom tree growing time: 1.853348970413208s\n",
      "Scikit tree growing time: 0.0023207664489746094s\n"
     ]
    }
   ],
   "source": [
    "print(f\"Custom tree growing time: {custom_tree_time}s\")\n",
    "print(f\"Scikit tree growing time: {scikit_tree_time}s\")"
   ]
  },
  {
   "cell_type": "code",
   "execution_count": 105,
   "metadata": {},
   "outputs": [
    {
     "name": "stdout",
     "output_type": "stream",
     "text": [
      "Root\n",
      "   | MSE of the node: 0.25\n",
      "   | Count of observations in node: 303\n",
      "   | Prediction of node: 0.545\n",
      "|-------- Split rule: cp <= 0.5\n",
      "           | MSE of the node: 0.2\n",
      "           | Count of observations in node: 143\n",
      "           | Prediction of node: 0.273\n",
      "|---------------- Split rule: ca <= 0.5\n",
      "                   | MSE of the node: 0.25\n",
      "                   | Count of observations in node: 65\n",
      "                   | Prediction of node: 0.523\n",
      "|------------------------ Split rule: thal <= 2.5\n",
      "                           | MSE of the node: 0.18\n",
      "                           | Count of observations in node: 38\n",
      "                           | Prediction of node: 0.763\n",
      "|------------------------ Split rule: thal > 2.5\n",
      "                           | MSE of the node: 0.15\n",
      "                           | Count of observations in node: 27\n",
      "                           | Prediction of node: 0.185\n",
      "|---------------- Split rule: ca > 0.5\n",
      "                   | MSE of the node: 0.06\n",
      "                   | Count of observations in node: 78\n",
      "                   | Prediction of node: 0.064\n",
      "|------------------------ Split rule: trestbps <= 109.0\n",
      "                           | MSE of the node: 0.24\n",
      "                           | Count of observations in node: 5\n",
      "                           | Prediction of node: 0.4\n",
      "|------------------------ Split rule: trestbps > 109.0\n",
      "                           | MSE of the node: 0.04\n",
      "                           | Count of observations in node: 73\n",
      "                           | Prediction of node: 0.041\n",
      "|-------- Split rule: cp > 0.5\n",
      "           | MSE of the node: 0.17\n",
      "           | Count of observations in node: 160\n",
      "           | Prediction of node: 0.788\n",
      "|---------------- Split rule: thal <= 2.5\n",
      "                   | MSE of the node: 0.11\n",
      "                   | Count of observations in node: 121\n",
      "                   | Prediction of node: 0.868\n",
      "|------------------------ Split rule: age <= 55.5\n",
      "                           | MSE of the node: 0.04\n",
      "                           | Count of observations in node: 76\n",
      "                           | Prediction of node: 0.961\n",
      "|------------------------ Split rule: age > 55.5\n",
      "                           | MSE of the node: 0.21\n",
      "                           | Count of observations in node: 45\n",
      "                           | Prediction of node: 0.711\n",
      "|---------------- Split rule: thal > 2.5\n",
      "                   | MSE of the node: 0.25\n",
      "                   | Count of observations in node: 39\n",
      "                   | Prediction of node: 0.538\n"
     ]
    }
   ],
   "source": [
    "root.print_tree()"
   ]
  },
  {
   "cell_type": "code",
   "execution_count": 106,
   "metadata": {},
   "outputs": [
    {
     "name": "stdout",
     "output_type": "stream",
     "text": [
      "|--- cp <= 0.50\n",
      "|   |--- ca <= 0.50\n",
      "|   |   |--- thal <= 2.50\n",
      "|   |   |   |--- value: [0.76]\n",
      "|   |   |--- thal >  2.50\n",
      "|   |   |   |--- value: [0.19]\n",
      "|   |--- ca >  0.50\n",
      "|   |   |--- trestbps <= 109.00\n",
      "|   |   |   |--- value: [0.40]\n",
      "|   |   |--- trestbps >  109.00\n",
      "|   |   |   |--- value: [0.04]\n",
      "|--- cp >  0.50\n",
      "|   |--- thal <= 2.50\n",
      "|   |   |--- age <= 55.50\n",
      "|   |   |   |--- value: [0.96]\n",
      "|   |   |--- age >  55.50\n",
      "|   |   |   |--- value: [0.71]\n",
      "|   |--- thal >  2.50\n",
      "|   |   |--- value: [0.54]\n",
      "\n"
     ]
    }
   ],
   "source": [
    "print(export_text(clf, feature_names=features))"
   ]
  },
  {
   "cell_type": "code",
   "execution_count": 107,
   "metadata": {},
   "outputs": [],
   "source": [
    "target = d['target']\n",
    "d1 = d.copy()\n",
    "d1 = d1.drop('target', axis =1)"
   ]
  },
  {
   "cell_type": "code",
   "execution_count": 108,
   "metadata": {},
   "outputs": [],
   "source": [
    "X = d1"
   ]
  },
  {
   "cell_type": "code",
   "execution_count": 109,
   "metadata": {},
   "outputs": [
    {
     "data": {
      "text/plain": [
       "array([1, 1, 1, 1, 1, 1, 1, 1, 1, 1, 1, 1, 1, 1, 1, 1, 1, 1, 1, 1, 1, 1,\n",
       "       1, 1, 1, 1, 1, 1, 1, 1, 1, 1, 1, 1, 1, 1, 1, 1, 1, 1, 1, 1, 1, 1,\n",
       "       1, 1, 1, 1, 1, 1, 1, 1, 1, 1, 1, 1, 1, 1, 1, 1, 1, 1, 1, 1, 1, 1,\n",
       "       1, 1, 1, 1, 1, 1, 1, 1, 1, 1, 1, 1, 1, 1, 1, 1, 1, 1, 1, 1, 1, 1,\n",
       "       1, 1, 1, 1, 1, 1, 1, 1, 1, 1, 1, 1, 1, 1, 1, 1, 1, 1, 1, 1, 1, 1,\n",
       "       1, 1, 1, 1, 1, 1, 1, 1, 1, 1, 1, 1, 1, 1, 1, 1, 1, 1, 1, 1, 1, 1,\n",
       "       1, 1, 1, 1, 1, 1, 1, 1, 1, 1, 1, 1, 1, 1, 1, 1, 1, 1, 1, 1, 1, 1,\n",
       "       1, 1, 1, 1, 1, 1, 1, 1, 1, 1, 1, 0, 0, 0, 0, 0, 0, 0, 0, 0, 0, 0,\n",
       "       0, 0, 0, 0, 0, 0, 0, 0, 0, 0, 0, 0, 0, 0, 0, 0, 0, 0, 0, 0, 0, 0,\n",
       "       0, 0, 0, 0, 0, 0, 0, 0, 0, 0, 0, 0, 0, 0, 0, 0, 0, 0, 0, 0, 0, 0,\n",
       "       0, 0, 0, 0, 0, 0, 0, 0, 0, 0, 0, 0, 0, 0, 0, 0, 0, 0, 0, 0, 0, 0,\n",
       "       0, 0, 0, 0, 0, 0, 0, 0, 0, 0, 0, 0, 0, 0, 0, 0, 0, 0, 0, 0, 0, 0,\n",
       "       0, 0, 0, 0, 0, 0, 0, 0, 0, 0, 0, 0, 0, 0, 0, 0, 0, 0, 0, 0, 0, 0,\n",
       "       0, 0, 0, 0, 0, 0, 0, 0, 0, 0, 0, 0, 0, 0, 0, 0, 0])"
      ]
     },
     "execution_count": 109,
     "metadata": {},
     "output_type": "execute_result"
    }
   ],
   "source": [
    "le = LabelEncoder()\n",
    "target = le.fit_transform(target)\n",
    "target"
   ]
  },
  {
   "cell_type": "code",
   "execution_count": 110,
   "metadata": {},
   "outputs": [],
   "source": [
    "y = target"
   ]
  },
  {
   "cell_type": "code",
   "execution_count": 111,
   "metadata": {},
   "outputs": [
    {
     "name": "stdout",
     "output_type": "stream",
     "text": [
      "Training split input-  (242, 13)\n",
      "Testing split input-  (61, 13)\n"
     ]
    }
   ],
   "source": [
    "X_train, X_test, y_train, y_test = train_test_split(X , y, test_size = 0.2, random_state = 42)\n",
    "print(\"Training split input- \", X_train.shape)\n",
    "print(\"Testing split input- \", X_test.shape)"
   ]
  },
  {
   "cell_type": "code",
   "execution_count": 112,
   "metadata": {},
   "outputs": [
    {
     "name": "stdout",
     "output_type": "stream",
     "text": [
      "Decision Tree Classifier Created\n"
     ]
    }
   ],
   "source": [
    "dtree=DecisionTreeClassifier()\n",
    "dtree.fit(X_train,y_train)\n",
    "print('Decision Tree Classifier Created')"
   ]
  },
  {
   "cell_type": "code",
   "execution_count": 113,
   "metadata": {},
   "outputs": [
    {
     "name": "stdout",
     "output_type": "stream",
     "text": [
      "Classification report - \n",
      "               precision    recall  f1-score   support\n",
      "\n",
      "           0       0.76      0.90      0.83        29\n",
      "           1       0.89      0.75      0.81        32\n",
      "\n",
      "    accuracy                           0.82        61\n",
      "   macro avg       0.83      0.82      0.82        61\n",
      "weighted avg       0.83      0.82      0.82        61\n",
      "\n"
     ]
    }
   ],
   "source": [
    "y_pred = dtree.predict(X_test)\n",
    "print(\"Classification report - \\n\", classification_report(y_test,y_pred))"
   ]
  },
  {
   "cell_type": "code",
   "execution_count": 114,
   "metadata": {},
   "outputs": [
    {
     "data": {
      "text/plain": [
       "Text(0.5, 1.0, 'Accuracy Score: 81.9672131147541')"
      ]
     },
     "execution_count": 114,
     "metadata": {},
     "output_type": "execute_result"
    },
    {
     "data": {
      "image/png": "[encoded data removed]",
      "text/plain": [
       "<Figure size 360x360 with 2 Axes>"
      ]
     },
     "metadata": {
      "needs_background": "light"
     },
     "output_type": "display_data"
    }
   ],
   "source": [
    "cm = confusion_matrix(y_test, y_pred)\n",
    "plt.figure(figsize=(5,5))\n",
    "sns.heatmap(data=cm,linewidths=.5, annot=True,square = True,  cmap = 'Blues')\n",
    "plt.ylabel('Actual label')\n",
    "plt.xlabel('Predicted label')\n",
    "all_sample_title = 'Accuracy Score: {0}'.format(dtree.score(X_test, y_test)*100)\n",
    "plt.title(all_sample_title, size = 15)"
   ]
  },
  {
   "cell_type": "code",
   "execution_count": null,
   "metadata": {},
   "outputs": [],
   "source": []
  }
 ],
 "metadata": {
  "kernelspec": {
   "display_name": "Python 3",
   "language": "python",
   "name": "python3"
  },
  "language_info": {
   "codemirror_mode": {
    "name": "ipython",
    "version": 3
   },
   "file_extension": ".py",
   "mimetype": "text/x-python",
   "name": "python",
   "nbconvert_exporter": "python",
   "pygments_lexer": "ipython3",
   "version": "3.8.8"
  }
 },
 "nbformat": 4,
 "nbformat_minor": 4
}
