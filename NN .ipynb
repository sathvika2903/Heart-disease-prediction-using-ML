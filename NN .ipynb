{
 "cells": [
  {
   "cell_type": "markdown",
   "id": "d21ee5ce-3204-44cd-8f74-f2f5b537a2dd",
   "metadata": {},
   "source": [
    "\n",
    "#### *IMPORTING THE REQUIRED LIBRARY*\n"
   ]
  },
  {
   "cell_type": "code",
   "execution_count": 1,
   "id": "27fcd552-d463-46d9-b8d3-1bd126acabf0",
   "metadata": {},
   "outputs": [],
   "source": [
    "import numpy as np # linear algebra\n",
    "import pandas as pd # data processing, CSV file I/O (e.g. pd.read_csv)\n",
    "import seaborn as sns # visualization\n",
    "import matplotlib.pyplot as plt\n",
    "%matplotlib inline"
   ]
  },
  {
   "cell_type": "markdown",
   "id": "40f73059-0b92-45c9-a028-adf3359e8af9",
   "metadata": {},
   "source": [
    "####\n",
    "#### *LOAD DATA*\n",
    "####"
   ]
  },
  {
   "cell_type": "code",
   "execution_count": 2,
   "id": "21060da9-c0fa-43b1-89f3-65809456762d",
   "metadata": {},
   "outputs": [
    {
     "data": {
      "text/html": [
       "<div>\n",
       "<style scoped>\n",
       "    .dataframe tbody tr th:only-of-type {\n",
       "        vertical-align: middle;\n",
       "    }\n",
       "\n",
       "    .dataframe tbody tr th {\n",
       "        vertical-align: top;\n",
       "    }\n",
       "\n",
       "    .dataframe thead th {\n",
       "        text-align: right;\n",
       "    }\n",
       "</style>\n",
       "<table border=\"1\" class=\"dataframe\">\n",
       "  <thead>\n",
       "    <tr style=\"text-align: right;\">\n",
       "      <th></th>\n",
       "      <th>age</th>\n",
       "      <th>sex</th>\n",
       "      <th>cp</th>\n",
       "      <th>trestbps</th>\n",
       "      <th>chol</th>\n",
       "      <th>fbs</th>\n",
       "      <th>restecg</th>\n",
       "      <th>thalach</th>\n",
       "      <th>exang</th>\n",
       "      <th>oldpeak</th>\n",
       "      <th>slope</th>\n",
       "      <th>ca</th>\n",
       "      <th>thal</th>\n",
       "      <th>target</th>\n",
       "    </tr>\n",
       "  </thead>\n",
       "  <tbody>\n",
       "    <tr>\n",
       "      <th>92</th>\n",
       "      <td>52</td>\n",
       "      <td>1</td>\n",
       "      <td>2</td>\n",
       "      <td>138</td>\n",
       "      <td>223</td>\n",
       "      <td>0</td>\n",
       "      <td>1</td>\n",
       "      <td>169</td>\n",
       "      <td>0</td>\n",
       "      <td>0.0</td>\n",
       "      <td>2</td>\n",
       "      <td>4</td>\n",
       "      <td>2</td>\n",
       "      <td>1</td>\n",
       "    </tr>\n",
       "    <tr>\n",
       "      <th>227</th>\n",
       "      <td>35</td>\n",
       "      <td>1</td>\n",
       "      <td>0</td>\n",
       "      <td>120</td>\n",
       "      <td>198</td>\n",
       "      <td>0</td>\n",
       "      <td>1</td>\n",
       "      <td>130</td>\n",
       "      <td>1</td>\n",
       "      <td>1.6</td>\n",
       "      <td>1</td>\n",
       "      <td>0</td>\n",
       "      <td>3</td>\n",
       "      <td>0</td>\n",
       "    </tr>\n",
       "    <tr>\n",
       "      <th>293</th>\n",
       "      <td>67</td>\n",
       "      <td>1</td>\n",
       "      <td>2</td>\n",
       "      <td>152</td>\n",
       "      <td>212</td>\n",
       "      <td>0</td>\n",
       "      <td>0</td>\n",
       "      <td>150</td>\n",
       "      <td>0</td>\n",
       "      <td>0.8</td>\n",
       "      <td>1</td>\n",
       "      <td>0</td>\n",
       "      <td>3</td>\n",
       "      <td>0</td>\n",
       "    </tr>\n",
       "    <tr>\n",
       "      <th>16</th>\n",
       "      <td>58</td>\n",
       "      <td>0</td>\n",
       "      <td>2</td>\n",
       "      <td>120</td>\n",
       "      <td>340</td>\n",
       "      <td>0</td>\n",
       "      <td>1</td>\n",
       "      <td>172</td>\n",
       "      <td>0</td>\n",
       "      <td>0.0</td>\n",
       "      <td>2</td>\n",
       "      <td>0</td>\n",
       "      <td>2</td>\n",
       "      <td>1</td>\n",
       "    </tr>\n",
       "    <tr>\n",
       "      <th>48</th>\n",
       "      <td>53</td>\n",
       "      <td>0</td>\n",
       "      <td>2</td>\n",
       "      <td>128</td>\n",
       "      <td>216</td>\n",
       "      <td>0</td>\n",
       "      <td>0</td>\n",
       "      <td>115</td>\n",
       "      <td>0</td>\n",
       "      <td>0.0</td>\n",
       "      <td>2</td>\n",
       "      <td>0</td>\n",
       "      <td>0</td>\n",
       "      <td>1</td>\n",
       "    </tr>\n",
       "  </tbody>\n",
       "</table>\n",
       "</div>"
      ],
      "text/plain": [
       "     age  sex  cp  trestbps  chol  fbs  restecg  thalach  exang  oldpeak  \\\n",
       "92    52    1   2       138   223    0        1      169      0      0.0   \n",
       "227   35    1   0       120   198    0        1      130      1      1.6   \n",
       "293   67    1   2       152   212    0        0      150      0      0.8   \n",
       "16    58    0   2       120   340    0        1      172      0      0.0   \n",
       "48    53    0   2       128   216    0        0      115      0      0.0   \n",
       "\n",
       "     slope  ca  thal  target  \n",
       "92       2   4     2       1  \n",
       "227      1   0     3       0  \n",
       "293      1   0     3       0  \n",
       "16       2   0     2       1  \n",
       "48       2   0     0       1  "
      ]
     },
     "execution_count": 2,
     "metadata": {},
     "output_type": "execute_result"
    }
   ],
   "source": [
    "data = pd.read_csv(\"/Users/geethika/Desktop/heart.csv\")\n",
    "data.sample(n=5)"
   ]
  },
  {
   "cell_type": "markdown",
   "id": "96628ed1-5066-42f2-9c64-15518b29836e",
   "metadata": {},
   "source": [
    "####\n",
    "#### *NORMALIZE THE DATA*\n",
    "####"
   ]
  },
  {
   "cell_type": "code",
   "execution_count": 3,
   "id": "699e6b0a-47c3-4fac-82e1-b5f388897ba6",
   "metadata": {},
   "outputs": [
    {
     "data": {
      "text/html": [
       "<div>\n",
       "<style scoped>\n",
       "    .dataframe tbody tr th:only-of-type {\n",
       "        vertical-align: middle;\n",
       "    }\n",
       "\n",
       "    .dataframe tbody tr th {\n",
       "        vertical-align: top;\n",
       "    }\n",
       "\n",
       "    .dataframe thead th {\n",
       "        text-align: right;\n",
       "    }\n",
       "</style>\n",
       "<table border=\"1\" class=\"dataframe\">\n",
       "  <thead>\n",
       "    <tr style=\"text-align: right;\">\n",
       "      <th></th>\n",
       "      <th>age</th>\n",
       "      <th>sex</th>\n",
       "      <th>cp</th>\n",
       "      <th>trestbps</th>\n",
       "      <th>chol</th>\n",
       "      <th>fbs</th>\n",
       "      <th>restecg</th>\n",
       "      <th>thalach</th>\n",
       "      <th>exang</th>\n",
       "      <th>oldpeak</th>\n",
       "      <th>slope</th>\n",
       "      <th>ca</th>\n",
       "      <th>thal</th>\n",
       "    </tr>\n",
       "  </thead>\n",
       "  <tbody>\n",
       "    <tr>\n",
       "      <th>278</th>\n",
       "      <td>0.604167</td>\n",
       "      <td>0.0</td>\n",
       "      <td>0.333333</td>\n",
       "      <td>0.396226</td>\n",
       "      <td>0.440639</td>\n",
       "      <td>1.0</td>\n",
       "      <td>0.0</td>\n",
       "      <td>0.618321</td>\n",
       "      <td>0.0</td>\n",
       "      <td>0.000000</td>\n",
       "      <td>1.0</td>\n",
       "      <td>0.50</td>\n",
       "      <td>0.666667</td>\n",
       "    </tr>\n",
       "    <tr>\n",
       "      <th>39</th>\n",
       "      <td>0.750000</td>\n",
       "      <td>0.0</td>\n",
       "      <td>0.666667</td>\n",
       "      <td>0.622642</td>\n",
       "      <td>0.534247</td>\n",
       "      <td>0.0</td>\n",
       "      <td>0.0</td>\n",
       "      <td>0.610687</td>\n",
       "      <td>0.0</td>\n",
       "      <td>0.129032</td>\n",
       "      <td>1.0</td>\n",
       "      <td>0.00</td>\n",
       "      <td>0.666667</td>\n",
       "    </tr>\n",
       "    <tr>\n",
       "      <th>137</th>\n",
       "      <td>0.687500</td>\n",
       "      <td>1.0</td>\n",
       "      <td>0.333333</td>\n",
       "      <td>0.320755</td>\n",
       "      <td>0.187215</td>\n",
       "      <td>1.0</td>\n",
       "      <td>0.0</td>\n",
       "      <td>0.526718</td>\n",
       "      <td>0.0</td>\n",
       "      <td>0.000000</td>\n",
       "      <td>1.0</td>\n",
       "      <td>0.00</td>\n",
       "      <td>0.666667</td>\n",
       "    </tr>\n",
       "    <tr>\n",
       "      <th>45</th>\n",
       "      <td>0.479167</td>\n",
       "      <td>1.0</td>\n",
       "      <td>0.333333</td>\n",
       "      <td>0.245283</td>\n",
       "      <td>0.454338</td>\n",
       "      <td>0.0</td>\n",
       "      <td>0.5</td>\n",
       "      <td>0.770992</td>\n",
       "      <td>0.0</td>\n",
       "      <td>0.032258</td>\n",
       "      <td>1.0</td>\n",
       "      <td>0.00</td>\n",
       "      <td>0.666667</td>\n",
       "    </tr>\n",
       "    <tr>\n",
       "      <th>209</th>\n",
       "      <td>0.625000</td>\n",
       "      <td>1.0</td>\n",
       "      <td>0.000000</td>\n",
       "      <td>0.433962</td>\n",
       "      <td>0.116438</td>\n",
       "      <td>0.0</td>\n",
       "      <td>0.5</td>\n",
       "      <td>0.694656</td>\n",
       "      <td>1.0</td>\n",
       "      <td>0.000000</td>\n",
       "      <td>1.0</td>\n",
       "      <td>0.25</td>\n",
       "      <td>1.000000</td>\n",
       "    </tr>\n",
       "  </tbody>\n",
       "</table>\n",
       "</div>"
      ],
      "text/plain": [
       "          age  sex        cp  trestbps      chol  fbs  restecg   thalach  \\\n",
       "278  0.604167  0.0  0.333333  0.396226  0.440639  1.0      0.0  0.618321   \n",
       "39   0.750000  0.0  0.666667  0.622642  0.534247  0.0      0.0  0.610687   \n",
       "137  0.687500  1.0  0.333333  0.320755  0.187215  1.0      0.0  0.526718   \n",
       "45   0.479167  1.0  0.333333  0.245283  0.454338  0.0      0.5  0.770992   \n",
       "209  0.625000  1.0  0.000000  0.433962  0.116438  0.0      0.5  0.694656   \n",
       "\n",
       "     exang   oldpeak  slope    ca      thal  \n",
       "278    0.0  0.000000    1.0  0.50  0.666667  \n",
       "39     0.0  0.129032    1.0  0.00  0.666667  \n",
       "137    0.0  0.000000    1.0  0.00  0.666667  \n",
       "45     0.0  0.032258    1.0  0.00  0.666667  \n",
       "209    1.0  0.000000    1.0  0.25  1.000000  "
      ]
     },
     "execution_count": 3,
     "metadata": {},
     "output_type": "execute_result"
    }
   ],
   "source": [
    "df_norm = data[['age', 'sex', 'cp', 'trestbps', 'chol', 'fbs', 'restecg', 'thalach', 'exang', 'oldpeak','slope', 'ca', 'thal']].apply(lambda x: (x - x.min()) / (x.max() - x.min()))\n",
    "df_norm.sample(n=5)"
   ]
  },
  {
   "cell_type": "code",
   "execution_count": 4,
   "id": "cce8050f-08fb-40e5-afe1-7f0dd8802869",
   "metadata": {},
   "outputs": [
    {
     "data": {
      "text/html": [
       "<div>\n",
       "<style scoped>\n",
       "    .dataframe tbody tr th:only-of-type {\n",
       "        vertical-align: middle;\n",
       "    }\n",
       "\n",
       "    .dataframe tbody tr th {\n",
       "        vertical-align: top;\n",
       "    }\n",
       "\n",
       "    .dataframe thead th {\n",
       "        text-align: right;\n",
       "    }\n",
       "</style>\n",
       "<table border=\"1\" class=\"dataframe\">\n",
       "  <thead>\n",
       "    <tr style=\"text-align: right;\">\n",
       "      <th></th>\n",
       "      <th>age</th>\n",
       "      <th>sex</th>\n",
       "      <th>cp</th>\n",
       "      <th>trestbps</th>\n",
       "      <th>chol</th>\n",
       "      <th>fbs</th>\n",
       "      <th>restecg</th>\n",
       "      <th>thalach</th>\n",
       "      <th>exang</th>\n",
       "      <th>oldpeak</th>\n",
       "      <th>slope</th>\n",
       "      <th>ca</th>\n",
       "      <th>thal</th>\n",
       "      <th>target</th>\n",
       "    </tr>\n",
       "  </thead>\n",
       "  <tbody>\n",
       "    <tr>\n",
       "      <th>256</th>\n",
       "      <td>0.604167</td>\n",
       "      <td>1.0</td>\n",
       "      <td>0.000000</td>\n",
       "      <td>0.320755</td>\n",
       "      <td>0.303653</td>\n",
       "      <td>0.0</td>\n",
       "      <td>0.0</td>\n",
       "      <td>0.450382</td>\n",
       "      <td>1.0</td>\n",
       "      <td>0.483871</td>\n",
       "      <td>0.5</td>\n",
       "      <td>0.50</td>\n",
       "      <td>1.000000</td>\n",
       "      <td>0</td>\n",
       "    </tr>\n",
       "    <tr>\n",
       "      <th>52</th>\n",
       "      <td>0.687500</td>\n",
       "      <td>1.0</td>\n",
       "      <td>0.666667</td>\n",
       "      <td>0.339623</td>\n",
       "      <td>0.239726</td>\n",
       "      <td>0.0</td>\n",
       "      <td>0.5</td>\n",
       "      <td>0.572519</td>\n",
       "      <td>0.0</td>\n",
       "      <td>0.290323</td>\n",
       "      <td>0.5</td>\n",
       "      <td>0.75</td>\n",
       "      <td>1.000000</td>\n",
       "      <td>1</td>\n",
       "    </tr>\n",
       "    <tr>\n",
       "      <th>191</th>\n",
       "      <td>0.604167</td>\n",
       "      <td>1.0</td>\n",
       "      <td>0.000000</td>\n",
       "      <td>0.320755</td>\n",
       "      <td>0.205479</td>\n",
       "      <td>0.0</td>\n",
       "      <td>0.0</td>\n",
       "      <td>0.458015</td>\n",
       "      <td>1.0</td>\n",
       "      <td>0.354839</td>\n",
       "      <td>0.5</td>\n",
       "      <td>0.75</td>\n",
       "      <td>1.000000</td>\n",
       "      <td>0</td>\n",
       "    </tr>\n",
       "    <tr>\n",
       "      <th>274</th>\n",
       "      <td>0.375000</td>\n",
       "      <td>1.0</td>\n",
       "      <td>0.000000</td>\n",
       "      <td>0.150943</td>\n",
       "      <td>0.340183</td>\n",
       "      <td>0.0</td>\n",
       "      <td>0.0</td>\n",
       "      <td>0.358779</td>\n",
       "      <td>1.0</td>\n",
       "      <td>0.161290</td>\n",
       "      <td>0.5</td>\n",
       "      <td>0.25</td>\n",
       "      <td>0.666667</td>\n",
       "      <td>0</td>\n",
       "    </tr>\n",
       "    <tr>\n",
       "      <th>263</th>\n",
       "      <td>0.708333</td>\n",
       "      <td>0.0</td>\n",
       "      <td>0.000000</td>\n",
       "      <td>0.132075</td>\n",
       "      <td>0.326484</td>\n",
       "      <td>0.0</td>\n",
       "      <td>0.5</td>\n",
       "      <td>0.748092</td>\n",
       "      <td>1.0</td>\n",
       "      <td>0.290323</td>\n",
       "      <td>0.5</td>\n",
       "      <td>0.50</td>\n",
       "      <td>0.666667</td>\n",
       "      <td>0</td>\n",
       "    </tr>\n",
       "  </tbody>\n",
       "</table>\n",
       "</div>"
      ],
      "text/plain": [
       "          age  sex        cp  trestbps      chol  fbs  restecg   thalach  \\\n",
       "256  0.604167  1.0  0.000000  0.320755  0.303653  0.0      0.0  0.450382   \n",
       "52   0.687500  1.0  0.666667  0.339623  0.239726  0.0      0.5  0.572519   \n",
       "191  0.604167  1.0  0.000000  0.320755  0.205479  0.0      0.0  0.458015   \n",
       "274  0.375000  1.0  0.000000  0.150943  0.340183  0.0      0.0  0.358779   \n",
       "263  0.708333  0.0  0.000000  0.132075  0.326484  0.0      0.5  0.748092   \n",
       "\n",
       "     exang   oldpeak  slope    ca      thal  target  \n",
       "256    1.0  0.483871    0.5  0.50  1.000000       0  \n",
       "52     0.0  0.290323    0.5  0.75  1.000000       1  \n",
       "191    1.0  0.354839    0.5  0.75  1.000000       0  \n",
       "274    1.0  0.161290    0.5  0.25  0.666667       0  \n",
       "263    1.0  0.290323    0.5  0.50  0.666667       0  "
      ]
     },
     "execution_count": 4,
     "metadata": {},
     "output_type": "execute_result"
    }
   ],
   "source": [
    "df = pd.concat([df_norm, data.target], axis=1)\n",
    "df.sample(n=5)"
   ]
  },
  {
   "cell_type": "markdown",
   "id": "ecfe6980-be70-4b70-baa6-e1e81072428c",
   "metadata": {},
   "source": [
    "####\n",
    "#### *MARKING SOME OF THE DATA FOR TESTING PURPOSE* \n",
    "##### *We'll test our network with unseen data*\n",
    "####"
   ]
  },
  {
   "cell_type": "code",
   "execution_count": 5,
   "id": "dc5f1701-edb2-4a84-a147-d893c094738f",
   "metadata": {},
   "outputs": [
    {
     "data": {
      "text/html": [
       "<div>\n",
       "<style scoped>\n",
       "    .dataframe tbody tr th:only-of-type {\n",
       "        vertical-align: middle;\n",
       "    }\n",
       "\n",
       "    .dataframe tbody tr th {\n",
       "        vertical-align: top;\n",
       "    }\n",
       "\n",
       "    .dataframe thead th {\n",
       "        text-align: right;\n",
       "    }\n",
       "</style>\n",
       "<table border=\"1\" class=\"dataframe\">\n",
       "  <thead>\n",
       "    <tr style=\"text-align: right;\">\n",
       "      <th></th>\n",
       "      <th>age</th>\n",
       "      <th>sex</th>\n",
       "      <th>cp</th>\n",
       "      <th>trestbps</th>\n",
       "      <th>chol</th>\n",
       "      <th>fbs</th>\n",
       "      <th>restecg</th>\n",
       "      <th>thalach</th>\n",
       "      <th>exang</th>\n",
       "      <th>oldpeak</th>\n",
       "      <th>slope</th>\n",
       "      <th>ca</th>\n",
       "      <th>thal</th>\n",
       "      <th>target</th>\n",
       "      <th>train</th>\n",
       "    </tr>\n",
       "  </thead>\n",
       "  <tbody>\n",
       "    <tr>\n",
       "      <th>0</th>\n",
       "      <td>0.708333</td>\n",
       "      <td>1.0</td>\n",
       "      <td>1.000000</td>\n",
       "      <td>0.481132</td>\n",
       "      <td>0.244292</td>\n",
       "      <td>1.0</td>\n",
       "      <td>0.0</td>\n",
       "      <td>0.603053</td>\n",
       "      <td>0.0</td>\n",
       "      <td>0.370968</td>\n",
       "      <td>0.0</td>\n",
       "      <td>0.0</td>\n",
       "      <td>0.333333</td>\n",
       "      <td>1</td>\n",
       "      <td>True</td>\n",
       "    </tr>\n",
       "    <tr>\n",
       "      <th>1</th>\n",
       "      <td>0.166667</td>\n",
       "      <td>1.0</td>\n",
       "      <td>0.666667</td>\n",
       "      <td>0.339623</td>\n",
       "      <td>0.283105</td>\n",
       "      <td>0.0</td>\n",
       "      <td>0.5</td>\n",
       "      <td>0.885496</td>\n",
       "      <td>0.0</td>\n",
       "      <td>0.564516</td>\n",
       "      <td>0.0</td>\n",
       "      <td>0.0</td>\n",
       "      <td>0.666667</td>\n",
       "      <td>1</td>\n",
       "      <td>True</td>\n",
       "    </tr>\n",
       "    <tr>\n",
       "      <th>2</th>\n",
       "      <td>0.250000</td>\n",
       "      <td>0.0</td>\n",
       "      <td>0.333333</td>\n",
       "      <td>0.339623</td>\n",
       "      <td>0.178082</td>\n",
       "      <td>0.0</td>\n",
       "      <td>0.0</td>\n",
       "      <td>0.770992</td>\n",
       "      <td>0.0</td>\n",
       "      <td>0.225806</td>\n",
       "      <td>1.0</td>\n",
       "      <td>0.0</td>\n",
       "      <td>0.666667</td>\n",
       "      <td>1</td>\n",
       "      <td>True</td>\n",
       "    </tr>\n",
       "    <tr>\n",
       "      <th>3</th>\n",
       "      <td>0.562500</td>\n",
       "      <td>1.0</td>\n",
       "      <td>0.333333</td>\n",
       "      <td>0.245283</td>\n",
       "      <td>0.251142</td>\n",
       "      <td>0.0</td>\n",
       "      <td>0.5</td>\n",
       "      <td>0.816794</td>\n",
       "      <td>0.0</td>\n",
       "      <td>0.129032</td>\n",
       "      <td>1.0</td>\n",
       "      <td>0.0</td>\n",
       "      <td>0.666667</td>\n",
       "      <td>1</td>\n",
       "      <td>True</td>\n",
       "    </tr>\n",
       "    <tr>\n",
       "      <th>4</th>\n",
       "      <td>0.583333</td>\n",
       "      <td>0.0</td>\n",
       "      <td>0.000000</td>\n",
       "      <td>0.245283</td>\n",
       "      <td>0.520548</td>\n",
       "      <td>0.0</td>\n",
       "      <td>0.5</td>\n",
       "      <td>0.702290</td>\n",
       "      <td>1.0</td>\n",
       "      <td>0.096774</td>\n",
       "      <td>1.0</td>\n",
       "      <td>0.0</td>\n",
       "      <td>0.666667</td>\n",
       "      <td>1</td>\n",
       "      <td>False</td>\n",
       "    </tr>\n",
       "  </tbody>\n",
       "</table>\n",
       "</div>"
      ],
      "text/plain": [
       "        age  sex        cp  trestbps      chol  fbs  restecg   thalach  exang  \\\n",
       "0  0.708333  1.0  1.000000  0.481132  0.244292  1.0      0.0  0.603053    0.0   \n",
       "1  0.166667  1.0  0.666667  0.339623  0.283105  0.0      0.5  0.885496    0.0   \n",
       "2  0.250000  0.0  0.333333  0.339623  0.178082  0.0      0.0  0.770992    0.0   \n",
       "3  0.562500  1.0  0.333333  0.245283  0.251142  0.0      0.5  0.816794    0.0   \n",
       "4  0.583333  0.0  0.000000  0.245283  0.520548  0.0      0.5  0.702290    1.0   \n",
       "\n",
       "    oldpeak  slope   ca      thal  target  train  \n",
       "0  0.370968    0.0  0.0  0.333333       1   True  \n",
       "1  0.564516    0.0  0.0  0.666667       1   True  \n",
       "2  0.225806    1.0  0.0  0.666667       1   True  \n",
       "3  0.129032    1.0  0.0  0.666667       1   True  \n",
       "4  0.096774    1.0  0.0  0.666667       1  False  "
      ]
     },
     "execution_count": 5,
     "metadata": {},
     "output_type": "execute_result"
    }
   ],
   "source": [
    "train_test_per = 0.8\n",
    "df['train'] = np.random.rand(len(df)) < train_test_per\n",
    "df.head()"
   ]
  },
  {
   "cell_type": "markdown",
   "id": "f6cfa191-17e7-4bf7-a5ec-f27177213484",
   "metadata": {},
   "source": [
    "#### \n",
    "#### *SEPERATE TRAIN AND TEST DATA*\n",
    "#### "
   ]
  },
  {
   "cell_type": "code",
   "execution_count": 6,
   "id": "7aebe26d-8a6e-4d75-9f29-887d97c0b5ed",
   "metadata": {},
   "outputs": [
    {
     "data": {
      "text/html": [
       "<div>\n",
       "<style scoped>\n",
       "    .dataframe tbody tr th:only-of-type {\n",
       "        vertical-align: middle;\n",
       "    }\n",
       "\n",
       "    .dataframe tbody tr th {\n",
       "        vertical-align: top;\n",
       "    }\n",
       "\n",
       "    .dataframe thead th {\n",
       "        text-align: right;\n",
       "    }\n",
       "</style>\n",
       "<table border=\"1\" class=\"dataframe\">\n",
       "  <thead>\n",
       "    <tr style=\"text-align: right;\">\n",
       "      <th></th>\n",
       "      <th>age</th>\n",
       "      <th>sex</th>\n",
       "      <th>cp</th>\n",
       "      <th>trestbps</th>\n",
       "      <th>chol</th>\n",
       "      <th>fbs</th>\n",
       "      <th>restecg</th>\n",
       "      <th>thalach</th>\n",
       "      <th>exang</th>\n",
       "      <th>oldpeak</th>\n",
       "      <th>slope</th>\n",
       "      <th>ca</th>\n",
       "      <th>thal</th>\n",
       "      <th>target</th>\n",
       "    </tr>\n",
       "  </thead>\n",
       "  <tbody>\n",
       "    <tr>\n",
       "      <th>70</th>\n",
       "      <td>0.520833</td>\n",
       "      <td>1.0</td>\n",
       "      <td>0.666667</td>\n",
       "      <td>0.245283</td>\n",
       "      <td>0.301370</td>\n",
       "      <td>0.0</td>\n",
       "      <td>0.0</td>\n",
       "      <td>0.580153</td>\n",
       "      <td>0.0</td>\n",
       "      <td>0.064516</td>\n",
       "      <td>0.5</td>\n",
       "      <td>0.00</td>\n",
       "      <td>1.000000</td>\n",
       "      <td>1</td>\n",
       "    </tr>\n",
       "    <tr>\n",
       "      <th>282</th>\n",
       "      <td>0.625000</td>\n",
       "      <td>1.0</td>\n",
       "      <td>0.666667</td>\n",
       "      <td>0.301887</td>\n",
       "      <td>0.210046</td>\n",
       "      <td>1.0</td>\n",
       "      <td>0.5</td>\n",
       "      <td>0.480916</td>\n",
       "      <td>0.0</td>\n",
       "      <td>0.354839</td>\n",
       "      <td>0.5</td>\n",
       "      <td>0.25</td>\n",
       "      <td>0.333333</td>\n",
       "      <td>0</td>\n",
       "    </tr>\n",
       "    <tr>\n",
       "      <th>42</th>\n",
       "      <td>0.333333</td>\n",
       "      <td>1.0</td>\n",
       "      <td>0.000000</td>\n",
       "      <td>0.094340</td>\n",
       "      <td>0.187215</td>\n",
       "      <td>0.0</td>\n",
       "      <td>0.0</td>\n",
       "      <td>0.587786</td>\n",
       "      <td>1.0</td>\n",
       "      <td>0.483871</td>\n",
       "      <td>0.5</td>\n",
       "      <td>0.00</td>\n",
       "      <td>0.666667</td>\n",
       "      <td>1</td>\n",
       "    </tr>\n",
       "    <tr>\n",
       "      <th>44</th>\n",
       "      <td>0.208333</td>\n",
       "      <td>1.0</td>\n",
       "      <td>0.666667</td>\n",
       "      <td>0.433962</td>\n",
       "      <td>0.445205</td>\n",
       "      <td>0.0</td>\n",
       "      <td>0.0</td>\n",
       "      <td>0.847328</td>\n",
       "      <td>0.0</td>\n",
       "      <td>0.000000</td>\n",
       "      <td>1.0</td>\n",
       "      <td>0.00</td>\n",
       "      <td>0.666667</td>\n",
       "      <td>1</td>\n",
       "    </tr>\n",
       "    <tr>\n",
       "      <th>237</th>\n",
       "      <td>0.645833</td>\n",
       "      <td>1.0</td>\n",
       "      <td>0.000000</td>\n",
       "      <td>0.433962</td>\n",
       "      <td>0.381279</td>\n",
       "      <td>0.0</td>\n",
       "      <td>0.0</td>\n",
       "      <td>0.755725</td>\n",
       "      <td>0.0</td>\n",
       "      <td>0.193548</td>\n",
       "      <td>0.5</td>\n",
       "      <td>0.50</td>\n",
       "      <td>1.000000</td>\n",
       "      <td>0</td>\n",
       "    </tr>\n",
       "  </tbody>\n",
       "</table>\n",
       "</div>"
      ],
      "text/plain": [
       "          age  sex        cp  trestbps      chol  fbs  restecg   thalach  \\\n",
       "70   0.520833  1.0  0.666667  0.245283  0.301370  0.0      0.0  0.580153   \n",
       "282  0.625000  1.0  0.666667  0.301887  0.210046  1.0      0.5  0.480916   \n",
       "42   0.333333  1.0  0.000000  0.094340  0.187215  0.0      0.0  0.587786   \n",
       "44   0.208333  1.0  0.666667  0.433962  0.445205  0.0      0.0  0.847328   \n",
       "237  0.645833  1.0  0.000000  0.433962  0.381279  0.0      0.0  0.755725   \n",
       "\n",
       "     exang   oldpeak  slope    ca      thal  target  \n",
       "70     0.0  0.064516    0.5  0.00  1.000000       1  \n",
       "282    0.0  0.354839    0.5  0.25  0.333333       0  \n",
       "42     1.0  0.483871    0.5  0.00  0.666667       1  \n",
       "44     0.0  0.000000    1.0  0.00  0.666667       1  \n",
       "237    0.0  0.193548    0.5  0.50  1.000000       0  "
      ]
     },
     "execution_count": 6,
     "metadata": {},
     "output_type": "execute_result"
    }
   ],
   "source": [
    "train = df[df.train == 1]\n",
    "train = train.drop('train', axis=1).sample(frac=1)\n",
    "train.sample(n=5)"
   ]
  },
  {
   "cell_type": "code",
   "execution_count": 7,
   "id": "097f2559-805b-4e3c-9df3-c25e66b9e76b",
   "metadata": {},
   "outputs": [
    {
     "data": {
      "text/html": [
       "<div>\n",
       "<style scoped>\n",
       "    .dataframe tbody tr th:only-of-type {\n",
       "        vertical-align: middle;\n",
       "    }\n",
       "\n",
       "    .dataframe tbody tr th {\n",
       "        vertical-align: top;\n",
       "    }\n",
       "\n",
       "    .dataframe thead th {\n",
       "        text-align: right;\n",
       "    }\n",
       "</style>\n",
       "<table border=\"1\" class=\"dataframe\">\n",
       "  <thead>\n",
       "    <tr style=\"text-align: right;\">\n",
       "      <th></th>\n",
       "      <th>age</th>\n",
       "      <th>sex</th>\n",
       "      <th>cp</th>\n",
       "      <th>trestbps</th>\n",
       "      <th>chol</th>\n",
       "      <th>fbs</th>\n",
       "      <th>restecg</th>\n",
       "      <th>thalach</th>\n",
       "      <th>exang</th>\n",
       "      <th>oldpeak</th>\n",
       "      <th>slope</th>\n",
       "      <th>ca</th>\n",
       "      <th>thal</th>\n",
       "      <th>target</th>\n",
       "    </tr>\n",
       "  </thead>\n",
       "  <tbody>\n",
       "    <tr>\n",
       "      <th>130</th>\n",
       "      <td>0.520833</td>\n",
       "      <td>0.0</td>\n",
       "      <td>0.666667</td>\n",
       "      <td>0.622642</td>\n",
       "      <td>0.171233</td>\n",
       "      <td>0.0</td>\n",
       "      <td>0.5</td>\n",
       "      <td>0.702290</td>\n",
       "      <td>0.0</td>\n",
       "      <td>0.000000</td>\n",
       "      <td>1.0</td>\n",
       "      <td>0.25</td>\n",
       "      <td>0.666667</td>\n",
       "      <td>1</td>\n",
       "    </tr>\n",
       "    <tr>\n",
       "      <th>75</th>\n",
       "      <td>0.541667</td>\n",
       "      <td>0.0</td>\n",
       "      <td>0.333333</td>\n",
       "      <td>0.386792</td>\n",
       "      <td>0.283105</td>\n",
       "      <td>0.0</td>\n",
       "      <td>0.0</td>\n",
       "      <td>0.687023</td>\n",
       "      <td>0.0</td>\n",
       "      <td>0.225806</td>\n",
       "      <td>0.5</td>\n",
       "      <td>0.00</td>\n",
       "      <td>0.666667</td>\n",
       "      <td>1</td>\n",
       "    </tr>\n",
       "    <tr>\n",
       "      <th>29</th>\n",
       "      <td>0.500000</td>\n",
       "      <td>1.0</td>\n",
       "      <td>0.666667</td>\n",
       "      <td>0.339623</td>\n",
       "      <td>0.162100</td>\n",
       "      <td>1.0</td>\n",
       "      <td>0.0</td>\n",
       "      <td>0.618321</td>\n",
       "      <td>0.0</td>\n",
       "      <td>0.193548</td>\n",
       "      <td>0.0</td>\n",
       "      <td>0.00</td>\n",
       "      <td>0.666667</td>\n",
       "      <td>1</td>\n",
       "    </tr>\n",
       "    <tr>\n",
       "      <th>186</th>\n",
       "      <td>0.645833</td>\n",
       "      <td>1.0</td>\n",
       "      <td>0.000000</td>\n",
       "      <td>0.339623</td>\n",
       "      <td>0.289954</td>\n",
       "      <td>0.0</td>\n",
       "      <td>0.5</td>\n",
       "      <td>0.557252</td>\n",
       "      <td>1.0</td>\n",
       "      <td>0.225806</td>\n",
       "      <td>1.0</td>\n",
       "      <td>0.25</td>\n",
       "      <td>1.000000</td>\n",
       "      <td>0</td>\n",
       "    </tr>\n",
       "    <tr>\n",
       "      <th>4</th>\n",
       "      <td>0.583333</td>\n",
       "      <td>0.0</td>\n",
       "      <td>0.000000</td>\n",
       "      <td>0.245283</td>\n",
       "      <td>0.520548</td>\n",
       "      <td>0.0</td>\n",
       "      <td>0.5</td>\n",
       "      <td>0.702290</td>\n",
       "      <td>1.0</td>\n",
       "      <td>0.096774</td>\n",
       "      <td>1.0</td>\n",
       "      <td>0.00</td>\n",
       "      <td>0.666667</td>\n",
       "      <td>1</td>\n",
       "    </tr>\n",
       "  </tbody>\n",
       "</table>\n",
       "</div>"
      ],
      "text/plain": [
       "          age  sex        cp  trestbps      chol  fbs  restecg   thalach  \\\n",
       "130  0.520833  0.0  0.666667  0.622642  0.171233  0.0      0.5  0.702290   \n",
       "75   0.541667  0.0  0.333333  0.386792  0.283105  0.0      0.0  0.687023   \n",
       "29   0.500000  1.0  0.666667  0.339623  0.162100  1.0      0.0  0.618321   \n",
       "186  0.645833  1.0  0.000000  0.339623  0.289954  0.0      0.5  0.557252   \n",
       "4    0.583333  0.0  0.000000  0.245283  0.520548  0.0      0.5  0.702290   \n",
       "\n",
       "     exang   oldpeak  slope    ca      thal  target  \n",
       "130    0.0  0.000000    1.0  0.25  0.666667       1  \n",
       "75     0.0  0.225806    0.5  0.00  0.666667       1  \n",
       "29     0.0  0.193548    0.0  0.00  0.666667       1  \n",
       "186    1.0  0.225806    1.0  0.25  1.000000       0  \n",
       "4      1.0  0.096774    1.0  0.00  0.666667       1  "
      ]
     },
     "execution_count": 7,
     "metadata": {},
     "output_type": "execute_result"
    }
   ],
   "source": [
    "test = df[df.train == 0]\n",
    "test = test.drop('train', axis=1)\n",
    "test.sample(n=5)"
   ]
  },
  {
   "cell_type": "code",
   "execution_count": 8,
   "id": "25ad35cd-40b8-46f7-849f-86e05acb7e51",
   "metadata": {},
   "outputs": [
    {
     "data": {
      "text/plain": [
       "array([[0.625     , 1.        , 0.        , 0.43396226, 0.11643836,\n",
       "        0.        , 0.5       , 0.69465649, 1.        , 0.        ,\n",
       "        1.        , 0.25      , 1.        ],\n",
       "       [0.45833333, 0.        , 0.        , 0.33962264, 0.4086758 ,\n",
       "        0.        , 0.5       , 0.54198473, 1.        , 0.19354839,\n",
       "        0.5       , 0.        , 1.        ],\n",
       "       [0.125     , 1.        , 0.33333333, 0.26415094, 0.15068493,\n",
       "        0.        , 0.5       , 0.78625954, 0.        , 0.        ,\n",
       "        1.        , 0.        , 0.66666667],\n",
       "       [0.58333333, 1.        , 0.        , 0.52830189, 0.34246575,\n",
       "        0.        , 0.        , 0.3129771 , 1.        , 0.09677419,\n",
       "        0.5       , 0.25      , 0.33333333],\n",
       "       [0.52083333, 1.        , 0.        , 0.1509434 , 0.25799087,\n",
       "        0.        , 0.5       , 0.41984733, 1.        , 0.4516129 ,\n",
       "        0.5       , 0.25      , 1.        ]])"
      ]
     },
     "execution_count": 8,
     "metadata": {},
     "output_type": "execute_result"
    }
   ],
   "source": [
    "X = train.values[:,:13]\n",
    "X[:5]"
   ]
  },
  {
   "cell_type": "code",
   "execution_count": 9,
   "id": "62d871bd-8cc5-4637-909f-a8932afd7ab2",
   "metadata": {},
   "outputs": [],
   "source": [
    "targets = [[1],[0]]\n",
    "y = np.array([targets[int(x)] for x in train.values[:,13:14]])"
   ]
  },
  {
   "cell_type": "markdown",
   "id": "b9a012be-8a3f-4e22-bb83-a34a6fe7b21f",
   "metadata": {
    "tags": []
   },
   "source": [
    "#### \n",
    "#### **CREATE A BACKPROPAGATING NEURAL NETWORK**\n",
    "#### *Create 3 layers: Input, hidden and Output.*\n",
    "#### *Inputs = the information of the patient*\n",
    "#### *Output = 2 values, has heart disease or not, i.e, 0 and 1*\n",
    "#### *w1 is a matrix of weight connecting Input and the hidden layer. Each node in input layer connects to each node in the hidden layer.*\n",
    "#### *Weight are randomized between -1 and 1.*\n",
    "#### "
   ]
  },
  {
   "cell_type": "code",
   "execution_count": 10,
   "id": "89d3bed1-1040-4e3b-a0ac-83a21e04161d",
   "metadata": {},
   "outputs": [
    {
     "data": {
      "text/plain": [
       "array([[ 0.93405968,  0.0944645 ,  0.94536872,  0.42963199,  0.39545765],\n",
       "       [-0.56782101,  0.95254891, -0.98753949, -0.49403528, -0.13041694],\n",
       "       [ 0.55876584, -0.60462985,  0.72598647,  0.96680135, -0.67231552],\n",
       "       [ 0.19466789, -0.9820278 , -0.22685743, -0.91167988,  0.91330594],\n",
       "       [-0.12770671,  0.89795461,  0.57261197,  0.7325786 , -0.65366916],\n",
       "       [-0.85010283,  0.20148544, -0.66405563,  0.46676034, -0.18311228],\n",
       "       [ 0.05581765,  0.87514317,  0.04339224, -0.78361323, -0.68355319],\n",
       "       [ 0.0904053 ,  0.04880816,  0.27522049, -0.19700911,  0.29961022],\n",
       "       [-0.20619999,  0.24783223,  0.53480993, -0.64205218, -0.24884846],\n",
       "       [ 0.00506612,  0.37333416, -0.4926407 ,  0.10948173,  0.24986169],\n",
       "       [ 0.79100233, -0.27429282,  0.27511415, -0.6171072 , -0.00441177],\n",
       "       [-0.63510919,  0.83676608, -0.13635586,  0.6603762 , -0.16644739],\n",
       "       [ 0.80933518, -0.19034957, -0.33765099,  0.14427754,  0.6908873 ]])"
      ]
     },
     "execution_count": 10,
     "metadata": {},
     "output_type": "execute_result"
    }
   ],
   "source": [
    "num_inputs = len(X[0])\n",
    "hidden_layer_neurons = 5\n",
    "np.random.seed(4)\n",
    "w1 = 2*np.random.random((num_inputs, hidden_layer_neurons)) - 1\n",
    "w1"
   ]
  },
  {
   "cell_type": "markdown",
   "id": "b3da8aad-a1ce-47c5-a2d9-d5d8a5639fe2",
   "metadata": {},
   "source": [
    "####\n",
    "#### *w2 are the weights of connections between hidden layer and output layer.*\n",
    "#### "
   ]
  },
  {
   "cell_type": "code",
   "execution_count": 11,
   "id": "935f0c5f-d5d3-4fee-abfa-9d8576028a64",
   "metadata": {},
   "outputs": [
    {
     "data": {
      "text/plain": [
       "array([[ 0.72202862],\n",
       "       [ 0.19137623],\n",
       "       [-0.83067678],\n",
       "       [ 0.19453321],\n",
       "       [-0.50909258]])"
      ]
     },
     "execution_count": 11,
     "metadata": {},
     "output_type": "execute_result"
    }
   ],
   "source": [
    "num_outputs = len(y[0])\n",
    "w2 = 2*np.random.random((hidden_layer_neurons, num_outputs)) - 1\n",
    "w2"
   ]
  },
  {
   "cell_type": "markdown",
   "id": "09577c76-01c7-4739-b8e8-1103c34335c6",
   "metadata": {},
   "source": [
    "####\n",
    "#### *Train the network by updating the weights using backpropogation.*\n",
    "#### *This is the crux of the network. The layers are fed forward using sigmoid activation function. The weights are then updated based on error using gradient descent.*\n",
    "####"
   ]
  },
  {
   "cell_type": "markdown",
   "id": "dae30269-dd5f-4260-96f8-559da052dae6",
   "metadata": {},
   "source": [
    "Forward Propagation ( use current weights to calculate output ):\n",
    "> node activation = output from previous layer (network inputs in case of first layer) * weights\n",
    "> node output = sigmoid activation function = 1 / ( 1 + exp( node activation ) )\n",
    "\n",
    "Backpropagation ( update network weights ):\n",
    "Error calculation ( how far off we are from the expected values ):\n",
    "> derivative (different for different activation functions) = output * ( 1 - output )\n",
    "> error (for the last layer) = ( expected - output ) * derivative\n",
    "> error (for other layers) = ( error calulated previously * that layer's weight ) * derivative\n",
    "Update weight based on error caculated:\n",
    "> Weight = weight + ( output * error * learning rate )"
   ]
  },
  {
   "cell_type": "code",
   "execution_count": 12,
   "id": "953e1032-e0b2-42d0-8eca-4a62e8b34f98",
   "metadata": {},
   "outputs": [],
   "source": [
    "def draw_neural_net(ax, left, right, bottom, top, layer_sizes):\n",
    "    '''\n",
    "        - ax : matplotlib.axes.AxesSubplot\n",
    "            The axes on which to plot the cartoon (get e.g. by plt.gca())\n",
    "        - left : float\n",
    "            The center of the leftmost node(s) will be placed here\n",
    "        - right : float\n",
    "            The center of the rightmost node(s) will be placed here\n",
    "        - bottom : float\n",
    "            The center of the bottommost node(s) will be placed here\n",
    "        - top : float\n",
    "            The center of the topmost node(s) will be placed here\n",
    "        - layer_sizes : list of int\n",
    "            List of layer sizes, including input and output dimensionality\n",
    "    '''\n",
    "    n_layers = len(layer_sizes)\n",
    "    v_spacing = (top - bottom)/float(max(layer_sizes))\n",
    "    h_spacing = (right - left)/float(len(layer_sizes) - 1)\n",
    "    # Nodes\n",
    "    for n, layer_size in enumerate(layer_sizes):\n",
    "        layer_top = v_spacing*(layer_size - 1)/2. + (top + bottom)/2.\n",
    "        for m in range(layer_size):\n",
    "            circle = plt.Circle((n*h_spacing + left, layer_top - m*v_spacing), v_spacing/4.,\n",
    "                                color='w', ec='k', zorder=4)\n",
    "            ax.add_artist(circle)\n",
    "    # Edges\n",
    "    for n, (layer_size_a, layer_size_b) in enumerate(zip(layer_sizes[:-1], layer_sizes[1:])):\n",
    "        layer_top_a = v_spacing*(layer_size_a - 1)/2. + (top + bottom)/2.\n",
    "        layer_top_b = v_spacing*(layer_size_b - 1)/2. + (top + bottom)/2.\n",
    "        for m in range(layer_size_a):\n",
    "            for o in range(layer_size_b):\n",
    "                line = plt.Line2D([n*h_spacing + left, (n + 1)*h_spacing + left],\n",
    "                                  [layer_top_a - m*v_spacing, layer_top_b - o*v_spacing], c='k')\n",
    "                ax.add_artist(line)"
   ]
  },
  {
   "cell_type": "markdown",
   "id": "ded70ef5-0874-4a6c-9a10-41a8f7f9d71d",
   "metadata": {},
   "source": [
    "####"
   ]
  },
  {
   "cell_type": "markdown",
   "id": "9e14a35d-228a-49a4-8db8-fa610bc80245",
   "metadata": {},
   "source": [
    "**GRAPHICAL REPRESENTATION OF OUR NETWORK**"
   ]
  },
  {
   "cell_type": "markdown",
   "id": "ae8ea396-a946-4bc6-b6f7-b8d616cb70c8",
   "metadata": {},
   "source": [
    "A Graphical representations of our network will be something like below\n",
    "The first set of 4 nodes is the input.\n",
    "The second set of 5 nodes is the hidden layer.\n",
    "The last set of 3 nodes is the output layer.\n",
    "\n",
    "All the nodes of a layer are fully connected to all nodes of the next layer."
   ]
  },
  {
   "cell_type": "code",
   "execution_count": 13,
   "id": "eff0ba95-bc30-4cb8-a0a7-51c2277ce3ad",
   "metadata": {},
   "outputs": [
    {
     "data": {
      "image/png": "[encoded data removed]",
      "text/plain": [
       "<Figure size 864x864 with 1 Axes>"
      ]
     },
     "metadata": {
      "needs_background": "light"
     },
     "output_type": "display_data"
    }
   ],
   "source": [
    "fig = plt.figure(figsize=(12, 12))\n",
    "ax = fig.gca()\n",
    "ax.axis('off')\n",
    "draw_neural_net(ax, .1, .9, .1, .9, [13, 7, 1])"
   ]
  },
  {
   "cell_type": "markdown",
   "id": "1271afa5-c42e-4708-80b8-3c05c89d3122",
   "metadata": {},
   "source": [
    "#### \n",
    "**THE SIGMOID FUNCTION**\n",
    "\n",
    "The sigmoid activation function squashes the input values between 0 and 1. This provides a consistant way for the network to deal with outputs.\n"
   ]
  },
  {
   "cell_type": "code",
   "execution_count": 14,
   "id": "4050fd99-c8b0-4df5-a7b9-6d2fad9dfb29",
   "metadata": {},
   "outputs": [
    {
     "data": {
      "text/plain": [
       "[<matplotlib.lines.Line2D at 0x7f93702eb190>]"
      ]
     },
     "execution_count": 14,
     "metadata": {},
     "output_type": "execute_result"
    },
    {
     "data": {
      "image/png": "[encoded data removed]",
      "text/plain": [
       "<Figure size 432x288 with 1 Axes>"
      ]
     },
     "metadata": {
      "needs_background": "light"
     },
     "output_type": "display_data"
    }
   ],
   "source": [
    "# sigmoid function representation\n",
    "_x = np.linspace( -5, 5, 50 )\n",
    "_y = 1 / ( 1 + np.exp( -_x ) )\n",
    "plt.plot( _x, _y )"
   ]
  },
  {
   "cell_type": "markdown",
   "id": "07fef03d-a01e-49e1-87ef-4687df6e9059",
   "metadata": {},
   "source": [
    "####\n",
    "#### **TRAINING**\n",
    "####"
   ]
  },
  {
   "cell_type": "code",
   "execution_count": 15,
   "id": "e42deb1d-59bd-47cb-b6ab-573cb110285b",
   "metadata": {},
   "outputs": [
    {
     "name": "stdout",
     "output_type": "stream",
     "text": [
      "Error at the 1000th epoch: 0.12285227103529757\n"
     ]
    }
   ],
   "source": [
    "learning_rate = 0.2 # slowly update the network\n",
    "error = []\n",
    "for epoch in range(1000):\n",
    "    # activate the first layer using the input\n",
    "    #   matrix multiplication between the input and the layer 1 weights\n",
    "    #   result is fed into a sigmoid function\n",
    "    l1 = 1/(1 + np.exp(-(np.dot(X, w1))))\n",
    "    # activate the second layer using first layer as input\n",
    "    l2 = 1/(1 + np.exp(-(np.dot(l1, w2))))\n",
    "    # find the average errorof this batch\n",
    "    #   using absolute, can use square as well\n",
    "    er = (abs(y - l2)).mean()\n",
    "    error.append(er)\n",
    "    \n",
    "    # BACKPROPAGATION / learning!\n",
    "    # find contribution of error on each weight on the second layer\n",
    "    l2_delta = (y - l2)*(l2 * (1-l2))\n",
    "    # update each weight in the second layer slowly\n",
    "    w2 += l1.T.dot(l2_delta) * learning_rate\n",
    "    \n",
    "    # find contribution of error on each weight on the second layer w.r.t the first layer\n",
    "    l1_delta = l2_delta.dot(w2.T) * (l1 * (1-l1))\n",
    "    # udpate weights in the first layer\n",
    "    w1 += X.T.dot(l1_delta) * learning_rate\n",
    "    \n",
    "print('Error at the 1000th epoch:', er)    "
   ]
  },
  {
   "cell_type": "code",
   "execution_count": 16,
   "id": "e9c52783-7a8b-4dc2-903d-2dbf323ad8ca",
   "metadata": {},
   "outputs": [
    {
     "data": {
      "text/plain": [
       "[<matplotlib.lines.Line2D at 0x7f9380e04430>]"
      ]
     },
     "execution_count": 16,
     "metadata": {},
     "output_type": "execute_result"
    },
    {
     "data": {
      "image/png": "[encoded data removed]",
      "text/plain": [
       "<Figure size 432x288 with 1 Axes>"
      ]
     },
     "metadata": {
      "needs_background": "light"
     },
     "output_type": "display_data"
    }
   ],
   "source": [
    "plt.plot(error)"
   ]
  },
  {
   "cell_type": "markdown",
   "id": "077cc048-65ad-405f-90de-51a467a97fc9",
   "metadata": {},
   "source": [
    "####\n",
    "#### **TEST THE NETWORK FOR ACCURACY**\n",
    "####"
   ]
  },
  {
   "cell_type": "code",
   "execution_count": 17,
   "id": "4b92b722-e53a-4639-ac73-2c624591458c",
   "metadata": {},
   "outputs": [],
   "source": [
    "X = test.values[:,:13]\n",
    "y = np.array([targets[int(x)] for x in test.values[:,13:14]])\n",
    "\n",
    "l1 = 1/(1 + np.exp(-(np.dot(X, w1))))\n",
    "l2 = 1/(1 + np.exp(-(np.dot(l1, w2))))\n",
    "\n",
    "l22 = np.round(l2)"
   ]
  },
  {
   "cell_type": "markdown",
   "id": "4eb31395-3fdd-4e65-ad5d-149a17257900",
   "metadata": {},
   "source": [
    "From the above maxtrix we take the maximum value (per row), which forms our predictions..."
   ]
  },
  {
   "cell_type": "code",
   "execution_count": 18,
   "id": "904951d9-a82d-46eb-977c-4567c4bfe4fa",
   "metadata": {},
   "outputs": [],
   "source": [
    "yp = np.argmax(l22, axis=1) # y_pred value"
   ]
  },
  {
   "cell_type": "code",
   "execution_count": 19,
   "id": "15476c81-ed4b-47f8-a314-6c7428ce705d",
   "metadata": {},
   "outputs": [
    {
     "data": {
      "text/plain": [
       "51"
      ]
     },
     "execution_count": 19,
     "metadata": {},
     "output_type": "execute_result"
    }
   ],
   "source": [
    "len(yp)"
   ]
  },
  {
   "cell_type": "code",
   "execution_count": 20,
   "id": "3bebd0e1-d41e-433b-87ea-718b9b8bc44f",
   "metadata": {},
   "outputs": [
    {
     "data": {
      "text/plain": [
       "51"
      ]
     },
     "execution_count": 20,
     "metadata": {},
     "output_type": "execute_result"
    }
   ],
   "source": [
    "len(l22)"
   ]
  },
  {
   "cell_type": "code",
   "execution_count": 21,
   "id": "8d1613fe-eb25-48ab-b340-93c000349978",
   "metadata": {},
   "outputs": [
    {
     "data": {
      "text/plain": [
       "0.7843137254901961"
      ]
     },
     "execution_count": 21,
     "metadata": {},
     "output_type": "execute_result"
    }
   ],
   "source": [
    "from sklearn.metrics import accuracy_score\n",
    "accuracy_score(yp, l22)"
   ]
  },
  {
   "cell_type": "code",
   "execution_count": 24,
   "id": "5f20f405",
   "metadata": {},
   "outputs": [
    {
     "name": "stderr",
     "output_type": "stream",
     "text": [
      "/Users/geethika/Desktop/anaconda3/lib/python3.8/site-packages/seaborn/_decorators.py:36: FutureWarning: Pass the following variables as keyword args: x, y. From version 0.12, the only valid positional argument will be `data`, and passing other arguments without an explicit keyword will result in an error or misinterpretation.\n",
      "  warnings.warn(\n"
     ]
    },
    {
     "data": {
      "text/plain": [
       "<AxesSubplot:xlabel='Algorithms', ylabel='Accuracy score'>"
      ]
     },
     "execution_count": 24,
     "metadata": {},
     "output_type": "execute_result"
    },
    {
     "data": {
      "image/png": "[encoded data removed]",
      "text/plain": [
       "<Figure size 1080x576 with 1 Axes>"
      ]
     },
     "metadata": {},
     "output_type": "display_data"
    }
   ],
   "source": [
    "import seaborn as sns # visualization\n",
    "import matplotlib.pyplot as plt\n",
    "algorithms = [\"Logistic Regression\",\"Support Vector Machine\",\"K-Nearest Neighbors\",\"Decision Tree\",\"Random Forest\",\"Neural Network\"]\n",
    "scores=[86.88,55.73,91.8,81.96,86,78.4]\n",
    "sns.set(rc={'figure.figsize':(15,8)})\n",
    "plt.xlabel(\"Algorithms\")\n",
    "plt.ylabel(\"Accuracy score\")\n",
    "sns.barplot(algorithms,scores)"
   ]
  },
  {
   "cell_type": "code",
   "execution_count": null,
   "id": "51348d52",
   "metadata": {},
   "outputs": [],
   "source": []
  }
 ],
 "metadata": {
  "kernelspec": {
   "display_name": "Python 3",
   "language": "python",
   "name": "python3"
  },
  "language_info": {
   "codemirror_mode": {
    "name": "ipython",
    "version": 3
   },
   "file_extension": ".py",
   "mimetype": "text/x-python",
   "name": "python",
   "nbconvert_exporter": "python",
   "pygments_lexer": "ipython3",
   "version": "3.8.8"
  }
 },
 "nbformat": 4,
 "nbformat_minor": 5
}
