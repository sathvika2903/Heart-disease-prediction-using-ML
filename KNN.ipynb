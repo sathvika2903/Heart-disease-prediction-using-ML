{
 "cells": [
  {
   "cell_type": "code",
   "execution_count": 1,
   "id": "e3a509c8-f21b-400d-9fc0-cc541ea859e1",
   "metadata": {},
   "outputs": [],
   "source": [
    "import matplotlib.pyplot as plt\n",
    "import pandas as pd\n",
    "import numpy as np\n",
    "from sklearn.metrics import accuracy_score\n",
    "from sklearn.model_selection import train_test_split\n",
    "import os"
   ]
  },
  {
   "cell_type": "code",
   "execution_count": 2,
   "id": "9ccbaba3-8e5c-49e9-a86f-209169fa1e6e",
   "metadata": {},
   "outputs": [],
   "source": [
    "dataset = pd.read_csv(\"/Users/geethika/Desktop/heart.csv\")\n",
    "predictors = dataset.drop(\"target\",axis=1)\n",
    "target = dataset[\"target\"]\n",
    "X_train,X_test,Y_train,Y_test = train_test_split(predictors,target,test_size=0.20,random_state=0)"
   ]
  },
  {
   "cell_type": "code",
   "execution_count": 3,
   "id": "b354f930-64ec-4318-868f-39c9a8ba149d",
   "metadata": {},
   "outputs": [],
   "source": [
    "from sklearn.preprocessing import StandardScaler\n",
    "sc = StandardScaler()\n",
    "X_train = sc.fit_transform(X_train)\n",
    "X_test = sc.transform(X_test)"
   ]
  },
  {
   "cell_type": "code",
   "execution_count": 4,
   "id": "7c8034dd-7fdb-4c93-920d-180945f0e14c",
   "metadata": {},
   "outputs": [
    {
     "data": {
      "text/plain": [
       "100.2"
      ]
     },
     "execution_count": 4,
     "metadata": {},
     "output_type": "execute_result"
    }
   ],
   "source": [
    "# Calculate distance between two points\n",
    "\n",
    "def minkowski_distance(a, b, p=1):\n",
    "    \n",
    "    # Store the number of dimensions\n",
    "    dim = len(a)\n",
    "    \n",
    "    # Set initial distance to 0\n",
    "    distance = 0\n",
    "    \n",
    "    # Calculate minkowski distance using parameter p\n",
    "    for d in range(dim):\n",
    "        distance += abs(a[d] - b[d])**p\n",
    "        \n",
    "    distance = distance**(1/p)\n",
    "    \n",
    "    return distance\n",
    "\n",
    "\n",
    "# Test the function\n",
    "\n",
    "minkowski_distance(a=predictors.iloc[0], b=predictors.iloc[1], p=1)"
   ]
  },
  {
   "cell_type": "code",
   "execution_count": 5,
   "id": "8b0aa155-ee47-4afd-8642-2f7d292314ff",
   "metadata": {},
   "outputs": [
    {
     "data": {
      "text/html": [
       "<div>\n",
       "<style scoped>\n",
       "    .dataframe tbody tr th:only-of-type {\n",
       "        vertical-align: middle;\n",
       "    }\n",
       "\n",
       "    .dataframe tbody tr th {\n",
       "        vertical-align: top;\n",
       "    }\n",
       "\n",
       "    .dataframe thead th {\n",
       "        text-align: right;\n",
       "    }\n",
       "</style>\n",
       "<table border=\"1\" class=\"dataframe\">\n",
       "  <thead>\n",
       "    <tr style=\"text-align: right;\">\n",
       "      <th></th>\n",
       "      <th>dist</th>\n",
       "    </tr>\n",
       "  </thead>\n",
       "  <tbody>\n",
       "    <tr>\n",
       "      <th>0</th>\n",
       "      <td>204.7</td>\n",
       "    </tr>\n",
       "    <tr>\n",
       "      <th>1</th>\n",
       "      <td>163.7</td>\n",
       "    </tr>\n",
       "    <tr>\n",
       "      <th>2</th>\n",
       "      <td>169.7</td>\n",
       "    </tr>\n",
       "    <tr>\n",
       "      <th>3</th>\n",
       "      <td>173.7</td>\n",
       "    </tr>\n",
       "    <tr>\n",
       "      <th>4</th>\n",
       "      <td>176.7</td>\n",
       "    </tr>\n",
       "  </tbody>\n",
       "</table>\n",
       "</div>"
      ],
      "text/plain": [
       "    dist\n",
       "0  204.7\n",
       "1  163.7\n",
       "2  169.7\n",
       "3  173.7\n",
       "4  176.7"
      ]
     },
     "execution_count": 5,
     "metadata": {},
     "output_type": "execute_result"
    }
   ],
   "source": [
    "# Define an arbitrary test point\n",
    "\n",
    "test_pt = [4.8, 2.7, 2.5, 0.7]\n",
    "\n",
    "# Calculate distance between test_pt and all points in X\n",
    "\n",
    "distances = []\n",
    "\n",
    "for i in predictors.index:\n",
    "    \n",
    "    distances.append(minkowski_distance(test_pt, predictors.iloc[i]))\n",
    "    \n",
    "df_dists = pd.DataFrame(data=distances, index=predictors.index, columns=['dist'])\n",
    "df_dists.head()"
   ]
  },
  {
   "cell_type": "code",
   "execution_count": 6,
   "id": "84b90386-da06-4280-91dd-6d95347a161c",
   "metadata": {},
   "outputs": [
    {
     "data": {
      "text/html": [
       "<div>\n",
       "<style scoped>\n",
       "    .dataframe tbody tr th:only-of-type {\n",
       "        vertical-align: middle;\n",
       "    }\n",
       "\n",
       "    .dataframe tbody tr th {\n",
       "        vertical-align: top;\n",
       "    }\n",
       "\n",
       "    .dataframe thead th {\n",
       "        text-align: right;\n",
       "    }\n",
       "</style>\n",
       "<table border=\"1\" class=\"dataframe\">\n",
       "  <thead>\n",
       "    <tr style=\"text-align: right;\">\n",
       "      <th></th>\n",
       "      <th>dist</th>\n",
       "    </tr>\n",
       "  </thead>\n",
       "  <tbody>\n",
       "    <tr>\n",
       "      <th>124</th>\n",
       "      <td>130.7</td>\n",
       "    </tr>\n",
       "    <tr>\n",
       "      <th>71</th>\n",
       "      <td>141.7</td>\n",
       "    </tr>\n",
       "    <tr>\n",
       "      <th>84</th>\n",
       "      <td>143.7</td>\n",
       "    </tr>\n",
       "    <tr>\n",
       "      <th>30</th>\n",
       "      <td>144.7</td>\n",
       "    </tr>\n",
       "    <tr>\n",
       "      <th>87</th>\n",
       "      <td>144.7</td>\n",
       "    </tr>\n",
       "  </tbody>\n",
       "</table>\n",
       "</div>"
      ],
      "text/plain": [
       "      dist\n",
       "124  130.7\n",
       "71   141.7\n",
       "84   143.7\n",
       "30   144.7\n",
       "87   144.7"
      ]
     },
     "execution_count": 6,
     "metadata": {},
     "output_type": "execute_result"
    }
   ],
   "source": [
    "# Find the 5 nearest neighbors\n",
    "\n",
    "df_nn = df_dists.sort_values(by=['dist'], axis=0)[:5]\n",
    "df_nn"
   ]
  },
  {
   "cell_type": "code",
   "execution_count": 7,
   "id": "5bb6a576-133f-47ba-aefb-acd03e8e0555",
   "metadata": {},
   "outputs": [
    {
     "data": {
      "text/plain": [
       "1"
      ]
     },
     "execution_count": 7,
     "metadata": {},
     "output_type": "execute_result"
    }
   ],
   "source": [
    "from collections import Counter\n",
    "\n",
    "# Create counter object to track the labels\n",
    "\n",
    "counter = Counter(target[df_nn.index])\n",
    "\n",
    "# Get most common label of all the nearest neighbors\n",
    "\n",
    "counter.most_common()[0][0]"
   ]
  },
  {
   "cell_type": "code",
   "execution_count": 8,
   "id": "bcbda019-7b78-4159-90be-68876e7c90e2",
   "metadata": {},
   "outputs": [
    {
     "name": "stdout",
     "output_type": "stream",
     "text": [
      "[0, 1, 0, 0, 0, 1, 0, 0, 0, 0, 1, 1, 0, 1, 1, 1, 1, 1, 0, 1, 1, 0, 0, 0, 1, 1, 0, 1, 1, 1, 0, 0, 1, 1, 1, 0, 0, 1, 0, 0, 1, 1, 1, 0, 1, 1, 1, 0, 0, 1, 1, 1, 1, 1, 1, 0, 1, 1, 1, 1, 1]\n"
     ]
    }
   ],
   "source": [
    "def knn_predict(X_train, X_test, y_train, y_test, k, p):\n",
    "    \n",
    "    # Counter to help with label voting\n",
    "    from collections import Counter\n",
    "    \n",
    "    # Make predictions on the test data\n",
    "    # Need output of 1 prediction per test data point\n",
    "    y_hat_test = []\n",
    "\n",
    "    for test_point in X_test:\n",
    "        distances = []\n",
    "\n",
    "        for train_point in X_train:\n",
    "            distance = minkowski_distance(test_point, train_point, p=p)\n",
    "            distances.append(distance)\n",
    "        \n",
    "        # Store distances in a dataframe\n",
    "        df_dists = pd.DataFrame(data=distances, columns=['dist'], \n",
    "                                index=y_train.index)\n",
    "        \n",
    "        # Sort distances, and only consider the k closest points\n",
    "        df_nn = df_dists.sort_values(by=['dist'], axis=0)[:k]\n",
    "\n",
    "        # Create counter object to track the labels of k closest neighbors\n",
    "        counter = Counter(y_train[df_nn.index])\n",
    "\n",
    "        # Get most common label of all the nearest neighbors\n",
    "        prediction = counter.most_common()[0][0]\n",
    "        \n",
    "        # Append prediction to output list\n",
    "        y_hat_test.append(prediction)\n",
    "        \n",
    "    return y_hat_test\n",
    "\n",
    "\n",
    "# Make predictions on test dataset\n",
    "y_hat_test = knn_predict(X_train, X_test, Y_train, Y_test, k=12, p=1)\n",
    "\n",
    "print(y_hat_test)"
   ]
  },
  {
   "cell_type": "code",
   "execution_count": 9,
   "id": "fc8aa596-25a8-49d9-ae1a-6865806eb6f9",
   "metadata": {},
   "outputs": [
    {
     "name": "stdout",
     "output_type": "stream",
     "text": [
      "91.80327868852459\n"
     ]
    }
   ],
   "source": [
    "# Get test accuracy score\n",
    "\n",
    "from sklearn.metrics import accuracy_score\n",
    "\n",
    "print(accuracy_score(Y_test, y_hat_test)*100)"
   ]
  },
  {
   "cell_type": "code",
   "execution_count": 10,
   "id": "18a126c4-d1ee-4404-bc12-5de2b59188d8",
   "metadata": {},
   "outputs": [
    {
     "data": {
      "image/png": "[encoded data removed]",
      "text/plain": [
       "<Figure size 576x432 with 1 Axes>"
      ]
     },
     "metadata": {
      "needs_background": "light"
     },
     "output_type": "display_data"
    }
   ],
   "source": [
    "# Obtain accuracy score varying k from 1 to 99\n",
    "\n",
    "accuracies = []\n",
    "\n",
    "for k in range(1,100):\n",
    "    y_hat_test = knn_predict(X_train, X_test, Y_train, Y_test, k, p=1)\n",
    "    accuracies.append(accuracy_score(Y_test, y_hat_test))\n",
    "\n",
    "# Plot the results \n",
    "\n",
    "fig, ax = plt.subplots(figsize=(8,6))\n",
    "ax.plot(range(1,100), accuracies)\n",
    "ax.set_xlabel('# of Nearest Neighbors (k)')\n",
    "ax.set_ylabel('Accuracy (%)');"
   ]
  },
  {
   "cell_type": "code",
   "execution_count": null,
   "id": "754aa1a4-54f0-44fe-9dc2-6cd279b1ffbd",
   "metadata": {},
   "outputs": [],
   "source": []
  }
 ],
 "metadata": {
  "kernelspec": {
   "display_name": "Python 3",
   "language": "python",
   "name": "python3"
  },
  "language_info": {
   "codemirror_mode": {
    "name": "ipython",
    "version": 3
   },
   "file_extension": ".py",
   "mimetype": "text/x-python",
   "name": "python",
   "nbconvert_exporter": "python",
   "pygments_lexer": "ipython3",
   "version": "3.8.8"
  }
 },
 "nbformat": 4,
 "nbformat_minor": 5
}
